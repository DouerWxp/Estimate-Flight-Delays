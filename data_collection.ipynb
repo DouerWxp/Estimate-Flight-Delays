{
 "cells": [
  {
   "cell_type": "markdown",
   "metadata": {},
   "source": [
    "# Data Collection\n",
    "\n",
    "To analyze the flights' delay causes, we need two parts of data, the information on flights and the external factors. The flights information could be downloaded on the website https://www.transtats.bts.gov/DL_SelectFields.aspx?gnoyr_VQ=FGJ&QO_fu146_anzr=b0-gvzr. Then, we choose origin city and destination city weather as the external factors to help analyze the flights' delays, https://openweathermap.org/ provides convenient APIs to get the historical weather data."
   ]
  },
  {
   "cell_type": "markdown",
   "metadata": {},
   "source": [
    "## Get The Flight Dataset\n",
    "\n",
    "The flight dataset was downloaded manually and saved in the directory `dataset`. The data is so large that the reading of CSV files is slow, we use sqlite3 organize these data to reach a faster query speed. Sqlite3 is a light database based on local files which need not servers or executing clients. \n",
    "\n",
    "First, I create a database named `flight.db`, all such settings are stored in a JSON format file named `config.json` which make the changing of settings more convenient. `Python` provides `json` package for JSON files, by which the config in the file would be loaded as a dictionary or a list."
   ]
  },
  {
   "cell_type": "code",
   "execution_count": 1,
   "metadata": {},
   "outputs": [
    {
     "name": "stdout",
     "output_type": "stream",
     "text": [
      "[INFO]: connect database successfully\n"
     ]
    }
   ],
   "source": [
    "import sqlite3  # sqlite3 provides a lightweight disk-based database that doesn’t require a separate server process\n",
    "import pandas as pd\n",
    "import json\n",
    "\n",
    "# import the config setting\n",
    "with open('config.json','r+',encoding='utf-8') as f:\n",
    "    config=json.load(f)\n",
    "\n",
    "# connect the database\n",
    "db=sqlite3.connect(config['Database'])\n",
    "print('[INFO]: connect database successfully')\n",
    "\n",
    "# create a cursor object to operate the db\n",
    "cur=db.cursor()"
   ]
  },
  {
   "cell_type": "markdown",
   "metadata": {},
   "source": [
    "Before writing table to the database, we should check out whether the table exists."
   ]
  },
  {
   "cell_type": "code",
   "execution_count": 2,
   "metadata": {},
   "outputs": [],
   "source": [
    "def get_tables(cur):\n",
    "    \"\"\"get all the table name in the database\n",
    "\n",
    "    Args:\n",
    "    ----------\n",
    "        cur (object): the cursor object of the database\n",
    "    \n",
    "    Return:\n",
    "    ----------\n",
    "    List\n",
    "        A list contains all the table name in the database\n",
    "    \"\"\"\n",
    "    try:\n",
    "        cur.execute(\"select name from sqlite_master where type='table'\")\n",
    "        return cur.fetchall()\n",
    "    except Exception as e:\n",
    "        print(e)\n",
    "\n",
    "def table_exist(table_name:str)->bool:\n",
    "    \"\"\"if the table exists in the database\n",
    "\n",
    "    Args:\n",
    "        table_name (str): the tal\n",
    "\n",
    "    Returns:\n",
    "        bool: True if the table exists in the database else False\n",
    "    \"\"\"\n",
    "    tables=get_tables(cur)\n",
    "\n",
    "    # judge if the flight table exists in the db\n",
    "    exist=False\n",
    "    for table in tables:\n",
    "        if table_name in table:\n",
    "            exist=True\n",
    "    return exist"
   ]
  },
  {
   "cell_type": "markdown",
   "metadata": {},
   "source": [
    "If the table exists, we could skip the procedure of writing data to database and jump to the next step. Or we need to read `csv` files and write the table to database. Similarly, the filepath list is saved in the config files, you could change it to writing any data you want to the database."
   ]
  },
  {
   "cell_type": "code",
   "execution_count": 3,
   "metadata": {},
   "outputs": [
    {
     "name": "stdout",
     "output_type": "stream",
     "text": [
      "File dataset/T_ONTIME_MARKETING_01.csv has been wrote to the sqlite database\n",
      "File dataset/T_ONTIME_MARKETING_02.csv has been wrote to the sqlite database\n",
      "File dataset/T_ONTIME_MARKETING_03.csv has been wrote to the sqlite database\n",
      "File dataset/T_ONTIME_MARKETING_04.csv has been wrote to the sqlite database\n"
     ]
    },
    {
     "name": "stderr",
     "output_type": "stream",
     "text": [
      "C:\\ProgramData\\Anaconda3\\lib\\site-packages\\IPython\\core\\interactiveshell.py:3165: DtypeWarning: Columns (26) have mixed types.Specify dtype option on import or set low_memory=False.\n",
      "  has_raised = await self.run_ast_nodes(code_ast.body, cell_name,\n"
     ]
    },
    {
     "name": "stdout",
     "output_type": "stream",
     "text": [
      "File dataset/T_ONTIME_MARKETING_05.csv has been wrote to the sqlite database\n",
      "File dataset/T_ONTIME_MARKETING_06.csv has been wrote to the sqlite database\n",
      "File dataset/T_ONTIME_MARKETING_07.csv has been wrote to the sqlite database\n",
      "File dataset/T_ONTIME_MARKETING_08.csv has been wrote to the sqlite database\n",
      "File dataset/T_ONTIME_MARKETING_09.csv has been wrote to the sqlite database\n",
      "File dataset/T_ONTIME_MARKETING_10.csv has been wrote to the sqlite database\n",
      "File dataset/T_ONTIME_MARKETING_11.csv has been wrote to the sqlite database\n",
      "File dataset/T_ONTIME_MARKETING_12.csv has been wrote to the sqlite database\n"
     ]
    }
   ],
   "source": [
    "# read csv files and write the data to sql database if the table not exists\n",
    "if not table_exist('flight'):\n",
    "    for filepath in config['Daily Dataset Path List']:\n",
    "        df=pd.read_csv(filepath)\n",
    "        df.to_sql(\"flight\",db,if_exists='append')\n",
    "        print(f'File {filepath} has been wrote to the sqlite database')"
   ]
  },
  {
   "cell_type": "markdown",
   "metadata": {},
   "source": [
    "## Get The Weather Data\n",
    "Then we need to get the weather data of the cities. First, cities should be transformed to their longitude and latitude. Then call the historical weather API with the longitude and the latitude could receive a JSON response containing daily weather data of cities last year. Finally, the JSON response could be transformed to DataFrame and export to the sql database. \n",
    "\n",
    "First, we import `requests` packages for sending requests to websites, and other packages to assist this procedure. Then create a `client` to ensure the continuity of web requesting. "
   ]
  },
  {
   "cell_type": "code",
   "execution_count": 4,
   "metadata": {},
   "outputs": [],
   "source": [
    "import requests\n",
    "from urllib3.util.retry import Retry\n",
    "from requests.adapters import HTTPAdapter\n",
    "\n",
    "MAX_RETRIES = 10    # Number of times to retry a request\n",
    "SLEEP_INTERVAL = 0.1    # sleep interval to retry\n",
    "\n",
    "retries=Retry(\n",
    "    total=MAX_RETRIES,\n",
    "    backoff_factor=SLEEP_INTERVAL,\n",
    "    status_forcelist=[403, 500, 502, 503, 504],\n",
    ")\n",
    "\n",
    "# create client to send requests\n",
    "client = requests.Session()\n",
    "client.mount(\"http://\", HTTPAdapter(max_retries=retries))\n",
    "client.mount(\"https://\", HTTPAdapter(max_retries=retries))\n"
   ]
  },
  {
   "cell_type": "markdown",
   "metadata": {},
   "source": [
    "The city name should be transformed to longitude and latitude for the weather fetching, so I make a function achieving this procedure."
   ]
  },
  {
   "cell_type": "code",
   "execution_count": 5,
   "metadata": {},
   "outputs": [
    {
     "name": "stdout",
     "output_type": "stream",
     "text": [
      "{'lon': -98.4951405, 'lat': 29.4246002}\n"
     ]
    }
   ],
   "source": [
    "def city2cordinate(city_name:str)->dict:\n",
    "    \"\"\"transform city to longitude and latitude\n",
    "\n",
    "    Args:\n",
    "    ----------\n",
    "        city_name (str): the city to be transformed\n",
    "    \n",
    "    Return:\n",
    "    ----------\n",
    "        dict: A dictionary contains longitude and latitude of the city\n",
    "    \"\"\"\n",
    "    params={\n",
    "        \"q\":city_name,\n",
    "        \"limit\":5,\n",
    "        \"appid\":config['API Key']\n",
    "    }\n",
    "    # send a get request with params and receive a json format response\n",
    "    response=client.get(config['Geocoding API'],params=params).json()\n",
    "    \n",
    "    \"\"\"\n",
    "    the response includes serval cities from different country,\n",
    "    choose the city in the US and return its cordinate.\n",
    "    \"\"\"\n",
    "    for item in response:\n",
    "        if item['country']=='US':\n",
    "            return {'lon':item['lon'],\n",
    "                    'lat':item['lat']}\n",
    "    else:\n",
    "        print(city_name,response)\n",
    "        return False\n",
    "\n",
    "# test the function city_name2lon_lat\n",
    "cordinate=city2cordinate('San Antonio')\n",
    "print(cordinate)"
   ]
  },
  {
   "cell_type": "markdown",
   "metadata": {},
   "source": [
    "Similar to the weather API, the `get weather` function get the longitude and latitude at the location and return the last year weather data."
   ]
  },
  {
   "cell_type": "code",
   "execution_count": 7,
   "metadata": {},
   "outputs": [
    {
     "name": "stdout",
     "output_type": "stream",
     "text": [
      "{'month': 1, 'day': 1, 'temp': {'record_min': 270.58, 'record_max': 299.6, 'average_min': 279.68, 'average_max': 287.04, 'median': 282.89, 'mean': 282.48, 'p25': 276.75, 'p75': 285.63, 'st_dev': 7.03, 'num': 240}, 'pressure': {'min': 967, 'max': 1040, 'median': 1019.5, 'mean': 1019.42, 'p25': 1013, 'p75': 1026, 'st_dev': 9.76, 'num': 238}, 'humidity': {'min': 26, 'max': 100, 'median': 76, 'mean': 73.75, 'p25': 62, 'p75': 87, 'st_dev': 16.65, 'num': 238}, 'wind': {'min': 0, 'max': 8.7, 'median': 3.1, 'mean': 3.22, 'p25': 1.58, 'p75': 4.6, 'st_dev': 1.94, 'num': 240}, 'precipitation': {'min': 0, 'max': 0.3, 'median': 0, 'mean': 0.06, 'p25': 0, 'p75': 0, 'st_dev': 0.12, 'num': 240}, 'clouds': {'min': 0, 'max': 100, 'median': 90, 'mean': 58.3, 'p25': 1, 'p75': 90, 'st_dev': 39.88, 'num': 240}}\n"
     ]
    }
   ],
   "source": [
    "def get_weather(lon:float,lat:float)->dict:\n",
    "    \"\"\"get the last-year weather data by longitude and latitude at the location \n",
    "\n",
    "    Args:\n",
    "    ----------\n",
    "        lon (float): longitude of the location\n",
    "        lat (float): latitude of the location\n",
    "    \n",
    "    Return:\n",
    "    ----------\n",
    "        dict: A json dictionary contains the weather data at the location\n",
    "    \"\"\"\n",
    "    params={\n",
    "        \"lon\":lon,\n",
    "        \"lat\":lat,\n",
    "        \"appid\":config['API Key'],\n",
    "    }\n",
    "    response=client.get(config['Weather Data API'],params=params).json()\n",
    "    if response['cod']==200:\n",
    "        return response['result']\n",
    "    else:\n",
    "        return ValueError()\n",
    "\n",
    "# test the function get_weather\n",
    "weather_info=get_weather(**cordinate)\n",
    "print(weather_info[0])\n"
   ]
  },
  {
   "cell_type": "markdown",
   "metadata": {},
   "source": [
    "To writing the weather data to database, the weather data response should be transformed from JSON format to `pd.DataFrame` format. "
   ]
  },
  {
   "cell_type": "code",
   "execution_count": 8,
   "metadata": {},
   "outputs": [
    {
     "name": "stdout",
     "output_type": "stream",
     "text": [
      "<class 'pandas.core.frame.DataFrame'>\n",
      "RangeIndex: 366 entries, 0 to 365\n",
      "Data columns (total 45 columns):\n",
      " #   Column                Non-Null Count  Dtype  \n",
      "---  ------                --------------  -----  \n",
      " 0   city_name             366 non-null    object \n",
      " 1   month                 366 non-null    object \n",
      " 2   day                   366 non-null    object \n",
      " 3   temp_min              366 non-null    float64\n",
      " 4   temp_max              366 non-null    float64\n",
      " 5   temp_mean             366 non-null    float64\n",
      " 6   temp_p25              366 non-null    float64\n",
      " 7   temp_p75              366 non-null    float64\n",
      " 8   temp_median           366 non-null    float64\n",
      " 9   temp_st_dev           366 non-null    float64\n",
      " 10  pressure_min          366 non-null    object \n",
      " 11  pressure_max          366 non-null    object \n",
      " 12  pressure_mean         366 non-null    float64\n",
      " 13  pressure_p25          366 non-null    object \n",
      " 14  pressure_p75          366 non-null    object \n",
      " 15  pressure_median       366 non-null    float64\n",
      " 16  pressure_st_dev       366 non-null    float64\n",
      " 17  humidity_min          366 non-null    object \n",
      " 18  humidity_max          366 non-null    object \n",
      " 19  humidity_mean         366 non-null    float64\n",
      " 20  humidity_p25          366 non-null    object \n",
      " 21  humidity_p75          366 non-null    object \n",
      " 22  humidity_median       366 non-null    object \n",
      " 23  humidity_st_dev       366 non-null    float64\n",
      " 24  wind_min              366 non-null    object \n",
      " 25  wind_max              366 non-null    float64\n",
      " 26  wind_mean             366 non-null    float64\n",
      " 27  wind_p25              366 non-null    float64\n",
      " 28  wind_p75              366 non-null    float64\n",
      " 29  wind_median           366 non-null    float64\n",
      " 30  wind_st_dev           366 non-null    float64\n",
      " 31  precipitation_min     366 non-null    object \n",
      " 32  precipitation_max     366 non-null    float64\n",
      " 33  precipitation_mean    366 non-null    float64\n",
      " 34  precipitation_p25     366 non-null    object \n",
      " 35  precipitation_p75     366 non-null    object \n",
      " 36  precipitation_median  366 non-null    object \n",
      " 37  precipitation_st_dev  366 non-null    float64\n",
      " 38  clouds_min            366 non-null    object \n",
      " 39  clouds_max            366 non-null    object \n",
      " 40  clouds_mean           366 non-null    float64\n",
      " 41  clouds_p25            366 non-null    object \n",
      " 42  clouds_p75            366 non-null    object \n",
      " 43  clouds_median         366 non-null    object \n",
      " 44  clouds_st_dev         366 non-null    float64\n",
      "dtypes: float64(23), object(22)\n",
      "memory usage: 128.8+ KB\n"
     ]
    }
   ],
   "source": [
    "def extract_weather(weather_info:dict,city_name:str)->pd.DataFrame:\n",
    "    \"\"\" extract weather data from a dict and convert it to a dataframe\n",
    "\n",
    "    Args:\n",
    "    ----------\n",
    "        weather_info (list(dict)): \n",
    "        example:\n",
    "        [{\n",
    "            \"month\": 1,\n",
    "            \"day\": 1,\n",
    "            \"temp\": {\n",
    "                \"record_min\": 263.94,\n",
    "                \"record_max\": 291.59,\n",
    "                \"average_min\": 271.7,\n",
    "                \"average_max\": 283.32,\n",
    "                \"median\": 276.94,\n",
    "                \"mean\": 277.75,\n",
    "                \"p25\": 273.41,\n",
    "                \"p75\": 282.86,\n",
    "                \"st_dev\": 6.98,\n",
    "                \"num\": 240\n",
    "            },\n",
    "            \"pressure\": {\n",
    "                \"min\": 913,\n",
    "                \"max\": 1026,\n",
    "                \"median\": 1012,\n",
    "                \"mean\": 1002.49,\n",
    "                \"p25\": 996.5,\n",
    "                \"p75\": 1020.5,\n",
    "                \"st_dev\": 27.1,\n",
    "                \"num\": 240\n",
    "            },\n",
    "            \"humidity\": {\n",
    "                \"min\": 19,\n",
    "                \"max\": 100,\n",
    "                \"median\": 71,\n",
    "                \"mean\": 69.72,\n",
    "                \"p25\": 53,\n",
    "                \"p75\": 99,\n",
    "                \"st_dev\": 25.28,\n",
    "                \"num\": 240\n",
    "            },\n",
    "            \"wind\": {\n",
    "                \"min\": 0,\n",
    "                \"max\": 9.3,\n",
    "                \"median\": 1.21,\n",
    "                \"mean\": 1.71,\n",
    "                \"p25\": 0.89,\n",
    "                \"p75\": 2.21,\n",
    "                \"st_dev\": 1.49,\n",
    "                \"num\": 240\n",
    "            },\n",
    "            \"precipitation\": {\n",
    "                \"min\": 0,\n",
    "                \"max\": 0.3,\n",
    "                \"median\": 0,\n",
    "                \"mean\": 0,\n",
    "                \"p25\": 0,\n",
    "                \"p75\": 0,\n",
    "                \"st_dev\": 0.03,\n",
    "                \"num\": 240\n",
    "            },\n",
    "            \"clouds\": {\n",
    "                \"min\": 0,\n",
    "                \"max\": 99,\n",
    "                \"median\": 1,\n",
    "                \"mean\": 24,\n",
    "                \"p25\": 0,\n",
    "                \"p75\": 40,\n",
    "                \"st_dev\": 32.79,\n",
    "                \"num\": 240\n",
    "            }\n",
    "        }]\n",
    "    \n",
    "    Return\n",
    "    ----------\n",
    "        pd.DataFrame: A dataframe contains the weather data converted from the input dict\n",
    "    \"\"\"\n",
    "    # generate the columns of dataframe\n",
    "    columns=['city_name','month','day']\n",
    "    factors=['temp','pressure','humidity','wind','precipitation','clouds']\n",
    "    infos=['min','max','mean','p25','p75','median','st_dev']\n",
    "    for factor in factors:\n",
    "        for info in infos:\n",
    "            columns.append(f'{factor}_{info}') \n",
    "    # create an empty df\n",
    "    df=pd.DataFrame(columns=columns)\n",
    "    for item in weather_info:\n",
    "        row={}\n",
    "        row['city_name']=city_name\n",
    "        row['month']=item['month']\n",
    "        row['day']=item['day']\n",
    "        for factor in factors:\n",
    "            for info in infos:\n",
    "                # extracting tempure min and max is special  \n",
    "                if factor=='temp':\n",
    "                    if info=='min':\n",
    "                        row[f'{factor}_{info}']=item[factor]['average_min']\n",
    "                        continue\n",
    "                    if info=='max':\n",
    "                        row[f'{factor}_{info}']=item[factor]['average_max']\n",
    "                        continue\n",
    "                row[f'{factor}_{info}']=item[factor][info]\n",
    "        df=df.append(row,ignore_index=True)\n",
    "    return df\n",
    "\n",
    "# test the function extract_weather\n",
    "df=extract_weather(weather_info,'San Antonio')\n",
    "df.info()"
   ]
  },
  {
   "cell_type": "markdown",
   "metadata": {},
   "source": [
    "Now, We could extract last-year weather data of all the cities in the flight data. First, we execute a `select` command fetching the set of cites from flight table. Then, the historical weather data could be extracted and transformed to a table by the above function. Finally, the weather data could be appended to the `weather` table in the `flight.db` database. Similarly, we should check whether the weather table exists before writing data, which could avoid repeating to write. If you would like to update dataset, you could delete the table and rerun this block."
   ]
  },
  {
   "cell_type": "code",
   "execution_count": 9,
   "metadata": {},
   "outputs": [],
   "source": [
    "# store historical weather data of all cities in the database\n",
    "# get distinct cities from table flight\n",
    "cur.execute('SELECT DISTINCT ORIGIN_CITY_NAME FROM flight')\n",
    "city_list=cur.fetchall()\n",
    "\n",
    "if not table_exist('weather'):\n",
    "\n",
    "    # acquire weather for each city\n",
    "    # write these weather into database\n",
    "    for city, in city_list:\n",
    "        # draw the entire city name\n",
    "        real_city=city[:city.find(',')]\n",
    "        if '/' in real_city:\n",
    "            real_city=real_city[:real_city.find('/')]\n",
    "        print(f'[INFO] downloading historical weather data of city: {real_city}')\n",
    "        # get longitude and latitude\n",
    "        cordinate=city2cordinate(real_city)\n",
    "        if not cordinate:\n",
    "            continue\n",
    "        # crawl historical weather from api\n",
    "        weather_info=get_weather(**cordinate)\n",
    "        # transform json to df format\n",
    "        weather_df=extract_weather(weather_info,city)\n",
    "        # write df to database\n",
    "        weather_df.to_sql('weather',db,if_exists='append')\n",
    "    "
   ]
  }
 ],
 "metadata": {
  "interpreter": {
   "hash": "b3ba2566441a7c06988d0923437866b63cedc61552a5af99d1f4fb67d367b25f"
  },
  "kernelspec": {
   "display_name": "Python 3.9.7 ('base')",
   "language": "python",
   "name": "python3"
  },
  "language_info": {
   "codemirror_mode": {
    "name": "ipython",
    "version": 3
   },
   "file_extension": ".py",
   "mimetype": "text/x-python",
   "name": "python",
   "nbconvert_exporter": "python",
   "pygments_lexer": "ipython3",
   "version": "3.8.8"
  },
  "orig_nbformat": 4
 },
 "nbformat": 4,
 "nbformat_minor": 2
}
