{
 "cells": [
  {
   "cell_type": "markdown",
   "metadata": {},
   "source": [
    "# Data Analysis\n",
    "\n",
    "Flight delay has a great influence on other industries such as tourism, insurance, etc. Plenty of factors could determine the flight delay. BTS (Bureau of Transportation Statistics) categories these factors as Air Carrier, Extreme Weather, National Aviation System (NAS), Late-arriving aircraft and Security, and record the delay time caused by them.\n",
    "\n",
    "We collect the flight data from 2021-01-01 to 2021-12-31 and the weather data of origin cities and destination cities and store them in a sqlite3 database (see more details in `data_collection.ipynb`)."
   ]
  },
  {
   "cell_type": "markdown",
   "metadata": {},
   "source": [
    "## Descriptive Statistics\n",
    "\n",
    "Descriptive statistics are brief descriptive coefficients that summarize a given data set. "
   ]
  },
  {
   "cell_type": "code",
   "execution_count": 2,
   "metadata": {},
   "outputs": [
    {
     "name": "stdout",
     "output_type": "stream",
     "text": [
      "[INFO]: connect database successfully\n"
     ]
    }
   ],
   "source": [
    "import sqlite3\n",
    "import pandas as pd\n",
    "import json\n",
    "from matplotlib import pyplot as plt\n",
    "import math\n",
    "\n",
    "pd.set_option('max_colwidth',200)   # max display length of vale\n",
    "pd.set_option('display.max_columns',None)   # max display columns\n",
    "pd.set_option('display.max_rows',None)  # max display rows\n",
    "pd.set_option('display.float_format',lambda x: '%.3f'%x) # nonuse scientific notation to show value\n",
    "\n",
    "%matplotlib inline\n",
    "\n",
    "# import the config setting\n",
    "with open('config.json','r+',encoding='utf-8') as f:\n",
    "    config=json.load(f)\n",
    "\n",
    "# connect the database\n",
    "db=sqlite3.connect(config['Database'])\n",
    "print('[INFO]: connect database successfully')\n",
    "\n",
    "# create a cursor object to operate the db\n",
    "cur=db.cursor()"
   ]
  },
  {
   "cell_type": "markdown",
   "metadata": {},
   "source": [
    "The whole flight table includes over 6 million data which could make the analyzing procedure slowly. Therefore, we sample 100,000 data randomly and analyze them, the analyzing result could be similar with using all the data cause law of large numbers."
   ]
  },
  {
   "cell_type": "code",
   "execution_count": 3,
   "metadata": {},
   "outputs": [
    {
     "data": {
      "text/html": [
       "<div>\n",
       "<style scoped>\n",
       "    .dataframe tbody tr th:only-of-type {\n",
       "        vertical-align: middle;\n",
       "    }\n",
       "\n",
       "    .dataframe tbody tr th {\n",
       "        vertical-align: top;\n",
       "    }\n",
       "\n",
       "    .dataframe thead th {\n",
       "        text-align: right;\n",
       "    }\n",
       "</style>\n",
       "<table border=\"1\" class=\"dataframe\">\n",
       "  <thead>\n",
       "    <tr style=\"text-align: right;\">\n",
       "      <th></th>\n",
       "      <th>QUARTER</th>\n",
       "      <th>MONTH</th>\n",
       "      <th>DAY_OF_MONTH</th>\n",
       "      <th>DAY_OF_WEEK</th>\n",
       "      <th>MKT_UNIQUE_CARRIER</th>\n",
       "      <th>MKT_CARRIER_FL_NUM</th>\n",
       "      <th>AIR_TIME</th>\n",
       "      <th>DISTANCE</th>\n",
       "      <th>ARR_DELAY</th>\n",
       "      <th>ARR_DELAY_NEW</th>\n",
       "      <th>CARRIER_DELAY</th>\n",
       "      <th>WEATHER_DELAY</th>\n",
       "      <th>NAS_DELAY</th>\n",
       "      <th>SECURITY_DELAY</th>\n",
       "      <th>LATE_AIRCRAFT_DELAY</th>\n",
       "    </tr>\n",
       "  </thead>\n",
       "  <tbody>\n",
       "    <tr>\n",
       "      <th>0</th>\n",
       "      <td>3</td>\n",
       "      <td>7</td>\n",
       "      <td>28</td>\n",
       "      <td>3</td>\n",
       "      <td>AA</td>\n",
       "      <td>5340</td>\n",
       "      <td>21.000</td>\n",
       "      <td>91.000</td>\n",
       "      <td>-20.000</td>\n",
       "      <td>0.000</td>\n",
       "      <td>NaN</td>\n",
       "      <td>NaN</td>\n",
       "      <td>NaN</td>\n",
       "      <td>NaN</td>\n",
       "      <td>NaN</td>\n",
       "    </tr>\n",
       "    <tr>\n",
       "      <th>1</th>\n",
       "      <td>2</td>\n",
       "      <td>6</td>\n",
       "      <td>1</td>\n",
       "      <td>2</td>\n",
       "      <td>WN</td>\n",
       "      <td>2184</td>\n",
       "      <td>236.000</td>\n",
       "      <td>1838.000</td>\n",
       "      <td>-3.000</td>\n",
       "      <td>0.000</td>\n",
       "      <td>NaN</td>\n",
       "      <td>NaN</td>\n",
       "      <td>NaN</td>\n",
       "      <td>NaN</td>\n",
       "      <td>NaN</td>\n",
       "    </tr>\n",
       "    <tr>\n",
       "      <th>2</th>\n",
       "      <td>2</td>\n",
       "      <td>4</td>\n",
       "      <td>9</td>\n",
       "      <td>5</td>\n",
       "      <td>B6</td>\n",
       "      <td>131</td>\n",
       "      <td>308.000</td>\n",
       "      <td>2218.000</td>\n",
       "      <td>-9.000</td>\n",
       "      <td>0.000</td>\n",
       "      <td>NaN</td>\n",
       "      <td>NaN</td>\n",
       "      <td>NaN</td>\n",
       "      <td>NaN</td>\n",
       "      <td>NaN</td>\n",
       "    </tr>\n",
       "    <tr>\n",
       "      <th>3</th>\n",
       "      <td>1</td>\n",
       "      <td>1</td>\n",
       "      <td>1</td>\n",
       "      <td>5</td>\n",
       "      <td>WN</td>\n",
       "      <td>2585</td>\n",
       "      <td>88.000</td>\n",
       "      <td>519.000</td>\n",
       "      <td>-13.000</td>\n",
       "      <td>0.000</td>\n",
       "      <td>NaN</td>\n",
       "      <td>NaN</td>\n",
       "      <td>NaN</td>\n",
       "      <td>NaN</td>\n",
       "      <td>NaN</td>\n",
       "    </tr>\n",
       "    <tr>\n",
       "      <th>4</th>\n",
       "      <td>4</td>\n",
       "      <td>10</td>\n",
       "      <td>31</td>\n",
       "      <td>7</td>\n",
       "      <td>UA</td>\n",
       "      <td>3497</td>\n",
       "      <td>39.000</td>\n",
       "      <td>182.000</td>\n",
       "      <td>-4.000</td>\n",
       "      <td>0.000</td>\n",
       "      <td>NaN</td>\n",
       "      <td>NaN</td>\n",
       "      <td>NaN</td>\n",
       "      <td>NaN</td>\n",
       "      <td>NaN</td>\n",
       "    </tr>\n",
       "  </tbody>\n",
       "</table>\n",
       "</div>"
      ],
      "text/plain": [
       "   QUARTER  MONTH  DAY_OF_MONTH  DAY_OF_WEEK MKT_UNIQUE_CARRIER  \\\n",
       "0        3      7            28            3                 AA   \n",
       "1        2      6             1            2                 WN   \n",
       "2        2      4             9            5                 B6   \n",
       "3        1      1             1            5                 WN   \n",
       "4        4     10            31            7                 UA   \n",
       "\n",
       "   MKT_CARRIER_FL_NUM  AIR_TIME  DISTANCE  ARR_DELAY  ARR_DELAY_NEW  \\\n",
       "0                5340    21.000    91.000    -20.000          0.000   \n",
       "1                2184   236.000  1838.000     -3.000          0.000   \n",
       "2                 131   308.000  2218.000     -9.000          0.000   \n",
       "3                2585    88.000   519.000    -13.000          0.000   \n",
       "4                3497    39.000   182.000     -4.000          0.000   \n",
       "\n",
       "   CARRIER_DELAY  WEATHER_DELAY  NAS_DELAY  SECURITY_DELAY  \\\n",
       "0            NaN            NaN        NaN             NaN   \n",
       "1            NaN            NaN        NaN             NaN   \n",
       "2            NaN            NaN        NaN             NaN   \n",
       "3            NaN            NaN        NaN             NaN   \n",
       "4            NaN            NaN        NaN             NaN   \n",
       "\n",
       "   LATE_AIRCRAFT_DELAY  \n",
       "0                  NaN  \n",
       "1                  NaN  \n",
       "2                  NaN  \n",
       "3                  NaN  \n",
       "4                  NaN  "
      ]
     },
     "execution_count": 3,
     "metadata": {},
     "output_type": "execute_result"
    }
   ],
   "source": [
    "# load the data from database to memory\n",
    "sql='''SELECT \n",
    "        QUARTER,\n",
    "        MONTH,\n",
    "        DAY_OF_MONTH,\n",
    "        DAY_OF_WEEK,\n",
    "        MKT_UNIQUE_CARRIER,\n",
    "        MKT_CARRIER_FL_NUM,\n",
    "        AIR_TIME,\n",
    "        DISTANCE,\n",
    "        ARR_DELAY,\n",
    "        ARR_DELAY_NEW,\n",
    "        CARRIER_DELAY,\n",
    "        WEATHER_DELAY,\n",
    "        NAS_DELAY,\n",
    "        SECURITY_DELAY,\n",
    "        LATE_AIRCRAFT_DELAY \n",
    "                FROM flight\n",
    "        ORDER BY RANDOM()\n",
    "        LIMIT 100000;'''\n",
    "        \n",
    "df_delay=pd.read_sql(sql,db)    # read sql table\n",
    "df_delay.head() # print the head of the df"
   ]
  },
  {
   "cell_type": "markdown",
   "metadata": {},
   "source": [
    "I replace `NaN` in the table by 0 in the data cleaning procedure."
   ]
  },
  {
   "cell_type": "code",
   "execution_count": 4,
   "metadata": {},
   "outputs": [
    {
     "data": {
      "text/html": [
       "<div>\n",
       "<style scoped>\n",
       "    .dataframe tbody tr th:only-of-type {\n",
       "        vertical-align: middle;\n",
       "    }\n",
       "\n",
       "    .dataframe tbody tr th {\n",
       "        vertical-align: top;\n",
       "    }\n",
       "\n",
       "    .dataframe thead th {\n",
       "        text-align: right;\n",
       "    }\n",
       "</style>\n",
       "<table border=\"1\" class=\"dataframe\">\n",
       "  <thead>\n",
       "    <tr style=\"text-align: right;\">\n",
       "      <th></th>\n",
       "      <th>QUARTER</th>\n",
       "      <th>MONTH</th>\n",
       "      <th>DAY_OF_MONTH</th>\n",
       "      <th>DAY_OF_WEEK</th>\n",
       "      <th>MKT_UNIQUE_CARRIER</th>\n",
       "      <th>MKT_CARRIER_FL_NUM</th>\n",
       "      <th>AIR_TIME</th>\n",
       "      <th>DISTANCE</th>\n",
       "      <th>ARR_DELAY</th>\n",
       "      <th>ARR_DELAY_NEW</th>\n",
       "      <th>CARRIER_DELAY</th>\n",
       "      <th>WEATHER_DELAY</th>\n",
       "      <th>NAS_DELAY</th>\n",
       "      <th>SECURITY_DELAY</th>\n",
       "      <th>LATE_AIRCRAFT_DELAY</th>\n",
       "    </tr>\n",
       "  </thead>\n",
       "  <tbody>\n",
       "    <tr>\n",
       "      <th>0</th>\n",
       "      <td>3</td>\n",
       "      <td>7</td>\n",
       "      <td>28</td>\n",
       "      <td>3</td>\n",
       "      <td>AA</td>\n",
       "      <td>5340</td>\n",
       "      <td>21.000</td>\n",
       "      <td>91.000</td>\n",
       "      <td>-20.000</td>\n",
       "      <td>0.000</td>\n",
       "      <td>0.000</td>\n",
       "      <td>0.000</td>\n",
       "      <td>0.000</td>\n",
       "      <td>0.000</td>\n",
       "      <td>0.000</td>\n",
       "    </tr>\n",
       "    <tr>\n",
       "      <th>1</th>\n",
       "      <td>2</td>\n",
       "      <td>6</td>\n",
       "      <td>1</td>\n",
       "      <td>2</td>\n",
       "      <td>WN</td>\n",
       "      <td>2184</td>\n",
       "      <td>236.000</td>\n",
       "      <td>1838.000</td>\n",
       "      <td>-3.000</td>\n",
       "      <td>0.000</td>\n",
       "      <td>0.000</td>\n",
       "      <td>0.000</td>\n",
       "      <td>0.000</td>\n",
       "      <td>0.000</td>\n",
       "      <td>0.000</td>\n",
       "    </tr>\n",
       "    <tr>\n",
       "      <th>2</th>\n",
       "      <td>2</td>\n",
       "      <td>4</td>\n",
       "      <td>9</td>\n",
       "      <td>5</td>\n",
       "      <td>B6</td>\n",
       "      <td>131</td>\n",
       "      <td>308.000</td>\n",
       "      <td>2218.000</td>\n",
       "      <td>-9.000</td>\n",
       "      <td>0.000</td>\n",
       "      <td>0.000</td>\n",
       "      <td>0.000</td>\n",
       "      <td>0.000</td>\n",
       "      <td>0.000</td>\n",
       "      <td>0.000</td>\n",
       "    </tr>\n",
       "    <tr>\n",
       "      <th>3</th>\n",
       "      <td>1</td>\n",
       "      <td>1</td>\n",
       "      <td>1</td>\n",
       "      <td>5</td>\n",
       "      <td>WN</td>\n",
       "      <td>2585</td>\n",
       "      <td>88.000</td>\n",
       "      <td>519.000</td>\n",
       "      <td>-13.000</td>\n",
       "      <td>0.000</td>\n",
       "      <td>0.000</td>\n",
       "      <td>0.000</td>\n",
       "      <td>0.000</td>\n",
       "      <td>0.000</td>\n",
       "      <td>0.000</td>\n",
       "    </tr>\n",
       "    <tr>\n",
       "      <th>4</th>\n",
       "      <td>4</td>\n",
       "      <td>10</td>\n",
       "      <td>31</td>\n",
       "      <td>7</td>\n",
       "      <td>UA</td>\n",
       "      <td>3497</td>\n",
       "      <td>39.000</td>\n",
       "      <td>182.000</td>\n",
       "      <td>-4.000</td>\n",
       "      <td>0.000</td>\n",
       "      <td>0.000</td>\n",
       "      <td>0.000</td>\n",
       "      <td>0.000</td>\n",
       "      <td>0.000</td>\n",
       "      <td>0.000</td>\n",
       "    </tr>\n",
       "  </tbody>\n",
       "</table>\n",
       "</div>"
      ],
      "text/plain": [
       "   QUARTER  MONTH  DAY_OF_MONTH  DAY_OF_WEEK MKT_UNIQUE_CARRIER  \\\n",
       "0        3      7            28            3                 AA   \n",
       "1        2      6             1            2                 WN   \n",
       "2        2      4             9            5                 B6   \n",
       "3        1      1             1            5                 WN   \n",
       "4        4     10            31            7                 UA   \n",
       "\n",
       "   MKT_CARRIER_FL_NUM  AIR_TIME  DISTANCE  ARR_DELAY  ARR_DELAY_NEW  \\\n",
       "0                5340    21.000    91.000    -20.000          0.000   \n",
       "1                2184   236.000  1838.000     -3.000          0.000   \n",
       "2                 131   308.000  2218.000     -9.000          0.000   \n",
       "3                2585    88.000   519.000    -13.000          0.000   \n",
       "4                3497    39.000   182.000     -4.000          0.000   \n",
       "\n",
       "   CARRIER_DELAY  WEATHER_DELAY  NAS_DELAY  SECURITY_DELAY  \\\n",
       "0          0.000          0.000      0.000           0.000   \n",
       "1          0.000          0.000      0.000           0.000   \n",
       "2          0.000          0.000      0.000           0.000   \n",
       "3          0.000          0.000      0.000           0.000   \n",
       "4          0.000          0.000      0.000           0.000   \n",
       "\n",
       "   LATE_AIRCRAFT_DELAY  \n",
       "0                0.000  \n",
       "1                0.000  \n",
       "2                0.000  \n",
       "3                0.000  \n",
       "4                0.000  "
      ]
     },
     "execution_count": 4,
     "metadata": {},
     "output_type": "execute_result"
    }
   ],
   "source": [
    "# NaN in this table means 0, replace NaN by 0\n",
    "df_delay=df_delay.fillna(0)\n",
    "df_delay.head()"
   ]
  },
  {
   "cell_type": "markdown",
   "metadata": {},
   "source": [
    "From the description of the table, we could find that the number of flights arriving in advance is more than those are delay, and over 75% flights are delay less than 15 minutes. For the delay time by various factors, over 75% flights' delay time is 0. There is a great imbalance in the delay time, which could make a trouble in analysis. "
   ]
  },
  {
   "cell_type": "code",
   "execution_count": 5,
   "metadata": {},
   "outputs": [
    {
     "data": {
      "text/html": [
       "<div>\n",
       "<style scoped>\n",
       "    .dataframe tbody tr th:only-of-type {\n",
       "        vertical-align: middle;\n",
       "    }\n",
       "\n",
       "    .dataframe tbody tr th {\n",
       "        vertical-align: top;\n",
       "    }\n",
       "\n",
       "    .dataframe thead th {\n",
       "        text-align: right;\n",
       "    }\n",
       "</style>\n",
       "<table border=\"1\" class=\"dataframe\">\n",
       "  <thead>\n",
       "    <tr style=\"text-align: right;\">\n",
       "      <th></th>\n",
       "      <th>QUARTER</th>\n",
       "      <th>MONTH</th>\n",
       "      <th>DAY_OF_MONTH</th>\n",
       "      <th>DAY_OF_WEEK</th>\n",
       "      <th>MKT_CARRIER_FL_NUM</th>\n",
       "      <th>AIR_TIME</th>\n",
       "      <th>DISTANCE</th>\n",
       "      <th>ARR_DELAY</th>\n",
       "      <th>ARR_DELAY_NEW</th>\n",
       "      <th>CARRIER_DELAY</th>\n",
       "      <th>WEATHER_DELAY</th>\n",
       "      <th>NAS_DELAY</th>\n",
       "      <th>SECURITY_DELAY</th>\n",
       "      <th>LATE_AIRCRAFT_DELAY</th>\n",
       "    </tr>\n",
       "  </thead>\n",
       "  <tbody>\n",
       "    <tr>\n",
       "      <th>count</th>\n",
       "      <td>100000.000</td>\n",
       "      <td>100000.000</td>\n",
       "      <td>100000.000</td>\n",
       "      <td>100000.000</td>\n",
       "      <td>100000.000</td>\n",
       "      <td>100000.000</td>\n",
       "      <td>100000.000</td>\n",
       "      <td>100000.000</td>\n",
       "      <td>100000.000</td>\n",
       "      <td>100000.000</td>\n",
       "      <td>100000.000</td>\n",
       "      <td>100000.000</td>\n",
       "      <td>100000.000</td>\n",
       "      <td>100000.000</td>\n",
       "    </tr>\n",
       "    <tr>\n",
       "      <th>mean</th>\n",
       "      <td>2.650</td>\n",
       "      <td>6.966</td>\n",
       "      <td>15.823</td>\n",
       "      <td>4.015</td>\n",
       "      <td>2791.838</td>\n",
       "      <td>108.276</td>\n",
       "      <td>795.026</td>\n",
       "      <td>3.303</td>\n",
       "      <td>12.376</td>\n",
       "      <td>4.652</td>\n",
       "      <td>0.807</td>\n",
       "      <td>1.857</td>\n",
       "      <td>0.030</td>\n",
       "      <td>4.085</td>\n",
       "    </tr>\n",
       "    <tr>\n",
       "      <th>std</th>\n",
       "      <td>1.080</td>\n",
       "      <td>3.308</td>\n",
       "      <td>8.796</td>\n",
       "      <td>2.010</td>\n",
       "      <td>1826.117</td>\n",
       "      <td>69.793</td>\n",
       "      <td>582.581</td>\n",
       "      <td>50.700</td>\n",
       "      <td>47.438</td>\n",
       "      <td>33.841</td>\n",
       "      <td>15.467</td>\n",
       "      <td>11.214</td>\n",
       "      <td>1.409</td>\n",
       "      <td>24.575</td>\n",
       "    </tr>\n",
       "    <tr>\n",
       "      <th>min</th>\n",
       "      <td>1.000</td>\n",
       "      <td>1.000</td>\n",
       "      <td>1.000</td>\n",
       "      <td>1.000</td>\n",
       "      <td>1.000</td>\n",
       "      <td>0.000</td>\n",
       "      <td>31.000</td>\n",
       "      <td>-85.000</td>\n",
       "      <td>0.000</td>\n",
       "      <td>0.000</td>\n",
       "      <td>0.000</td>\n",
       "      <td>0.000</td>\n",
       "      <td>0.000</td>\n",
       "      <td>0.000</td>\n",
       "    </tr>\n",
       "    <tr>\n",
       "      <th>25%</th>\n",
       "      <td>2.000</td>\n",
       "      <td>4.000</td>\n",
       "      <td>8.000</td>\n",
       "      <td>2.000</td>\n",
       "      <td>1192.000</td>\n",
       "      <td>58.000</td>\n",
       "      <td>370.000</td>\n",
       "      <td>-16.000</td>\n",
       "      <td>0.000</td>\n",
       "      <td>0.000</td>\n",
       "      <td>0.000</td>\n",
       "      <td>0.000</td>\n",
       "      <td>0.000</td>\n",
       "      <td>0.000</td>\n",
       "    </tr>\n",
       "    <tr>\n",
       "      <th>50%</th>\n",
       "      <td>3.000</td>\n",
       "      <td>7.000</td>\n",
       "      <td>16.000</td>\n",
       "      <td>4.000</td>\n",
       "      <td>2444.000</td>\n",
       "      <td>92.000</td>\n",
       "      <td>646.000</td>\n",
       "      <td>-7.000</td>\n",
       "      <td>0.000</td>\n",
       "      <td>0.000</td>\n",
       "      <td>0.000</td>\n",
       "      <td>0.000</td>\n",
       "      <td>0.000</td>\n",
       "      <td>0.000</td>\n",
       "    </tr>\n",
       "    <tr>\n",
       "      <th>75%</th>\n",
       "      <td>4.000</td>\n",
       "      <td>10.000</td>\n",
       "      <td>23.000</td>\n",
       "      <td>6.000</td>\n",
       "      <td>4429.000</td>\n",
       "      <td>139.000</td>\n",
       "      <td>1032.000</td>\n",
       "      <td>5.000</td>\n",
       "      <td>5.000</td>\n",
       "      <td>0.000</td>\n",
       "      <td>0.000</td>\n",
       "      <td>0.000</td>\n",
       "      <td>0.000</td>\n",
       "      <td>0.000</td>\n",
       "    </tr>\n",
       "    <tr>\n",
       "      <th>max</th>\n",
       "      <td>4.000</td>\n",
       "      <td>12.000</td>\n",
       "      <td>31.000</td>\n",
       "      <td>7.000</td>\n",
       "      <td>9648.000</td>\n",
       "      <td>653.000</td>\n",
       "      <td>5095.000</td>\n",
       "      <td>3089.000</td>\n",
       "      <td>3089.000</td>\n",
       "      <td>3089.000</td>\n",
       "      <td>1449.000</td>\n",
       "      <td>591.000</td>\n",
       "      <td>264.000</td>\n",
       "      <td>1511.000</td>\n",
       "    </tr>\n",
       "  </tbody>\n",
       "</table>\n",
       "</div>"
      ],
      "text/plain": [
       "         QUARTER      MONTH  DAY_OF_MONTH  DAY_OF_WEEK  MKT_CARRIER_FL_NUM  \\\n",
       "count 100000.000 100000.000    100000.000   100000.000          100000.000   \n",
       "mean       2.650      6.966        15.823        4.015            2791.838   \n",
       "std        1.080      3.308         8.796        2.010            1826.117   \n",
       "min        1.000      1.000         1.000        1.000               1.000   \n",
       "25%        2.000      4.000         8.000        2.000            1192.000   \n",
       "50%        3.000      7.000        16.000        4.000            2444.000   \n",
       "75%        4.000     10.000        23.000        6.000            4429.000   \n",
       "max        4.000     12.000        31.000        7.000            9648.000   \n",
       "\n",
       "        AIR_TIME   DISTANCE  ARR_DELAY  ARR_DELAY_NEW  CARRIER_DELAY  \\\n",
       "count 100000.000 100000.000 100000.000     100000.000     100000.000   \n",
       "mean     108.276    795.026      3.303         12.376          4.652   \n",
       "std       69.793    582.581     50.700         47.438         33.841   \n",
       "min        0.000     31.000    -85.000          0.000          0.000   \n",
       "25%       58.000    370.000    -16.000          0.000          0.000   \n",
       "50%       92.000    646.000     -7.000          0.000          0.000   \n",
       "75%      139.000   1032.000      5.000          5.000          0.000   \n",
       "max      653.000   5095.000   3089.000       3089.000       3089.000   \n",
       "\n",
       "       WEATHER_DELAY  NAS_DELAY  SECURITY_DELAY  LATE_AIRCRAFT_DELAY  \n",
       "count     100000.000 100000.000      100000.000           100000.000  \n",
       "mean           0.807      1.857           0.030                4.085  \n",
       "std           15.467     11.214           1.409               24.575  \n",
       "min            0.000      0.000           0.000                0.000  \n",
       "25%            0.000      0.000           0.000                0.000  \n",
       "50%            0.000      0.000           0.000                0.000  \n",
       "75%            0.000      0.000           0.000                0.000  \n",
       "max         1449.000    591.000         264.000             1511.000  "
      ]
     },
     "execution_count": 5,
     "metadata": {},
     "output_type": "execute_result"
    }
   ],
   "source": [
    "# print the descriptive of the data\n",
    "df_delay.describe()"
   ]
  },
  {
   "cell_type": "markdown",
   "metadata": {},
   "source": [
    "Then I compute the sum of these delay time and make a pie chart show them. The following results show that the sum of delay time caused by the above causes is less than the sum of total delay time though they are very similar. So there exist some other factors which are not recorded by BTS.\n",
    "\n",
    "Besides, carrier cost most delay time and late aircraft is second. However, late aircraft could be reasoned by other factors, it is not a fundamental cause for delay. NAS make a strong influence and weather delay time is about 7%, security is the least influential factor."
   ]
  },
  {
   "cell_type": "code",
   "execution_count": 6,
   "metadata": {},
   "outputs": [
    {
     "name": "stdout",
     "output_type": "stream",
     "text": [
      "total of arrive delay time:1222510.0 min\n",
      "the sum of delay time caused by the 5 causes1126617.0 min\n",
      "CARRIER_DELAY         458665.000\n",
      "WEATHER_DELAY          70722.000\n",
      "NAS_DELAY             187350.000\n",
      "SECURITY_DELAY          3683.000\n",
      "LATE_AIRCRAFT_DELAY   406197.000\n",
      "dtype: object\n"
     ]
    },
    {
     "data": {
      "image/png": "[encoded data removed]",
      "text/plain": [
       "<Figure size 432x288 with 1 Axes>"
      ]
     },
     "metadata": {},
     "output_type": "display_data"
    }
   ],
   "source": [
    "# compute sum of each column\n",
    "df_sum=df_delay.sum(0)\n",
    "\n",
    "# print the total delay time and the sum of delay time for each cause\n",
    "print(f\"total of arrive delay time:{df_sum['ARR_DELAY_NEW']} min\")\n",
    "print(f\"the sum of delay time caused by the 5 causes{df_sum[config['Delay Cause']].sum()} min\")\n",
    "# plot pie charts of delay time\n",
    "df_sum[config['Delay Cause']].plot.pie(title='delay time distribution of delay cause in 2021',ylabel='')\n",
    "print(df_sum[config['Delay Cause']])"
   ]
  },
  {
   "cell_type": "markdown",
   "metadata": {},
   "source": [
    "In the count of frequencies for these factors, the result is a little different. NAS has a more frequency and late aircraft is less frequent comparing the statistic of delay time. So for the delay time per flight, late aircraft is more than average and NAS is less"
   ]
  },
  {
   "cell_type": "code",
   "execution_count": 7,
   "metadata": {},
   "outputs": [
    {
     "name": "stdout",
     "output_type": "stream",
     "text": [
      "CARRIER_DELAY          9902\n",
      "WEATHER_DELAY          1051\n",
      "NAS_DELAY              7384\n",
      "SECURITY_DELAY          127\n",
      "LATE_AIRCRAFT_DELAY    7723\n",
      "dtype: int64\n"
     ]
    },
    {
     "data": {
      "text/plain": [
       "<AxesSubplot:title={'center':'delay count distribution of delay cause in 2021'}>"
      ]
     },
     "execution_count": 7,
     "metadata": {},
     "output_type": "execute_result"
    },
    {
     "data": {
      "image/png": "[encoded data removed]",
      "text/plain": [
       "<Figure size 432x288 with 1 Axes>"
      ]
     },
     "metadata": {},
     "output_type": "display_data"
    }
   ],
   "source": [
    "# count the number of delay times\n",
    "df_count=(df_delay[config['Delay Cause']]>0).sum(0)\n",
    "print(df_count)\n",
    "# plot a pie chart contains the delay count of each cause\n",
    "df_count.plot.pie(title='delay count distribution of delay cause in 2021',ylabel='')"
   ]
  },
  {
   "cell_type": "markdown",
   "metadata": {},
   "source": [
    "## Carrier Delay Analysis\n",
    "\n",
    "Carrier delay is the most influential factor for the delay, and it could be influenced by date and carriers. So I try to use these information predicting the carrier delay."
   ]
  },
  {
   "cell_type": "code",
   "execution_count": 6,
   "metadata": {},
   "outputs": [
    {
     "data": {
      "text/html": [
       "<div>\n",
       "<style scoped>\n",
       "    .dataframe tbody tr th:only-of-type {\n",
       "        vertical-align: middle;\n",
       "    }\n",
       "\n",
       "    .dataframe tbody tr th {\n",
       "        vertical-align: top;\n",
       "    }\n",
       "\n",
       "    .dataframe thead th {\n",
       "        text-align: right;\n",
       "    }\n",
       "</style>\n",
       "<table border=\"1\" class=\"dataframe\">\n",
       "  <thead>\n",
       "    <tr style=\"text-align: right;\">\n",
       "      <th></th>\n",
       "      <th>QUARTER</th>\n",
       "      <th>MONTH</th>\n",
       "      <th>DAY_OF_MONTH</th>\n",
       "      <th>DAY_OF_WEEK</th>\n",
       "      <th>MKT_UNIQUE_CARRIER</th>\n",
       "      <th>CARRIER_DELAY</th>\n",
       "    </tr>\n",
       "  </thead>\n",
       "  <tbody>\n",
       "    <tr>\n",
       "      <th>0</th>\n",
       "      <td>3</td>\n",
       "      <td>7</td>\n",
       "      <td>28</td>\n",
       "      <td>3</td>\n",
       "      <td>AA</td>\n",
       "      <td>0.000</td>\n",
       "    </tr>\n",
       "    <tr>\n",
       "      <th>1</th>\n",
       "      <td>2</td>\n",
       "      <td>6</td>\n",
       "      <td>1</td>\n",
       "      <td>2</td>\n",
       "      <td>WN</td>\n",
       "      <td>0.000</td>\n",
       "    </tr>\n",
       "    <tr>\n",
       "      <th>2</th>\n",
       "      <td>2</td>\n",
       "      <td>4</td>\n",
       "      <td>9</td>\n",
       "      <td>5</td>\n",
       "      <td>B6</td>\n",
       "      <td>0.000</td>\n",
       "    </tr>\n",
       "    <tr>\n",
       "      <th>3</th>\n",
       "      <td>1</td>\n",
       "      <td>1</td>\n",
       "      <td>1</td>\n",
       "      <td>5</td>\n",
       "      <td>WN</td>\n",
       "      <td>0.000</td>\n",
       "    </tr>\n",
       "    <tr>\n",
       "      <th>4</th>\n",
       "      <td>4</td>\n",
       "      <td>10</td>\n",
       "      <td>31</td>\n",
       "      <td>7</td>\n",
       "      <td>UA</td>\n",
       "      <td>0.000</td>\n",
       "    </tr>\n",
       "  </tbody>\n",
       "</table>\n",
       "</div>"
      ],
      "text/plain": [
       "   QUARTER  MONTH  DAY_OF_MONTH  DAY_OF_WEEK MKT_UNIQUE_CARRIER  CARRIER_DELAY\n",
       "0        3      7            28            3                 AA          0.000\n",
       "1        2      6             1            2                 WN          0.000\n",
       "2        2      4             9            5                 B6          0.000\n",
       "3        1      1             1            5                 WN          0.000\n",
       "4        4     10            31            7                 UA          0.000"
      ]
     },
     "execution_count": 6,
     "metadata": {},
     "output_type": "execute_result"
    }
   ],
   "source": [
    "# extract the columns about carrier delay\n",
    "df_delay_carrier=df_delay[[\"QUARTER\",\"MONTH\",\"DAY_OF_MONTH\",\"DAY_OF_WEEK\",\"MKT_UNIQUE_CARRIER\",\"CARRIER_DELAY\"]]\n",
    "df_delay_carrier.head()"
   ]
  },
  {
   "cell_type": "markdown",
   "metadata": {},
   "source": [
    "The correlation between these columns are shown below, only quarter and month has a little correlation with carrier delay."
   ]
  },
  {
   "cell_type": "code",
   "execution_count": 8,
   "metadata": {},
   "outputs": [
    {
     "data": {
      "image/png": "[encoded data removed]",
      "text/plain": [
       "<Figure size 432x288 with 2 Axes>"
      ]
     },
     "metadata": {
      "needs_background": "light"
     },
     "output_type": "display_data"
    }
   ],
   "source": [
    "import seaborn as sns\n",
    "\"\"\"\n",
    "    Seaborn is a Python data visualization library based on matplotlib. \n",
    "    It provides a high-level interface for drawing attractive and informative statistical graphics.\n",
    "    see more details on https://seaborn.pydata.org/\n",
    "\"\"\"\n",
    "\n",
    "# plot the correlation matrix of each column\n",
    "sns.heatmap(df_delay_carrier.corr(),annot=True, fmt = \".2f\", cmap = \"coolwarm\")\n",
    "plt.show()"
   ]
  },
  {
   "cell_type": "markdown",
   "metadata": {},
   "source": [
    "Then I cut the carrier delay time to serval groups, and add the carriers code to the variables. The new correlation matrix shown that month and carrier have a small influence to the carrier delay group, day of month and day of week make a little influence.\n",
    "\n",
    "The correlation reflect the linear relationship between data, so the linear model could have a poor performance on this problem. We should consider nonlinear models like decision tree, kernel svm, neural network, etc."
   ]
  },
  {
   "cell_type": "code",
   "execution_count": 9,
   "metadata": {},
   "outputs": [
    {
     "name": "stderr",
     "output_type": "stream",
     "text": [
      "C:\\ProgramData\\Anaconda3\\lib\\site-packages\\pandas\\core\\indexing.py:1676: SettingWithCopyWarning: \n",
      "A value is trying to be set on a copy of a slice from a DataFrame.\n",
      "Try using .loc[row_indexer,col_indexer] = value instead\n",
      "\n",
      "See the caveats in the documentation: https://pandas.pydata.org/pandas-docs/stable/user_guide/indexing.html#returning-a-view-versus-a-copy\n",
      "  self._setitem_single_column(ilocs[0], value, pi)\n"
     ]
    },
    {
     "data": {
      "text/html": [
       "<div>\n",
       "<style scoped>\n",
       "    .dataframe tbody tr th:only-of-type {\n",
       "        vertical-align: middle;\n",
       "    }\n",
       "\n",
       "    .dataframe tbody tr th {\n",
       "        vertical-align: top;\n",
       "    }\n",
       "\n",
       "    .dataframe thead th {\n",
       "        text-align: right;\n",
       "    }\n",
       "</style>\n",
       "<table border=\"1\" class=\"dataframe\">\n",
       "  <thead>\n",
       "    <tr style=\"text-align: right;\">\n",
       "      <th></th>\n",
       "      <th>QUARTER</th>\n",
       "      <th>MONTH</th>\n",
       "      <th>DAY_OF_MONTH</th>\n",
       "      <th>DAY_OF_WEEK</th>\n",
       "      <th>MKT_UNIQUE_CARRIER</th>\n",
       "      <th>CARRIER_DELAY</th>\n",
       "      <th>CARRIER_DELAY_GROUP</th>\n",
       "    </tr>\n",
       "  </thead>\n",
       "  <tbody>\n",
       "    <tr>\n",
       "      <th>0</th>\n",
       "      <td>3</td>\n",
       "      <td>7</td>\n",
       "      <td>28</td>\n",
       "      <td>3</td>\n",
       "      <td>0</td>\n",
       "      <td>0.000</td>\n",
       "      <td>0</td>\n",
       "    </tr>\n",
       "    <tr>\n",
       "      <th>1</th>\n",
       "      <td>2</td>\n",
       "      <td>6</td>\n",
       "      <td>1</td>\n",
       "      <td>2</td>\n",
       "      <td>9</td>\n",
       "      <td>0.000</td>\n",
       "      <td>0</td>\n",
       "    </tr>\n",
       "    <tr>\n",
       "      <th>2</th>\n",
       "      <td>2</td>\n",
       "      <td>4</td>\n",
       "      <td>9</td>\n",
       "      <td>5</td>\n",
       "      <td>2</td>\n",
       "      <td>0.000</td>\n",
       "      <td>0</td>\n",
       "    </tr>\n",
       "    <tr>\n",
       "      <th>3</th>\n",
       "      <td>1</td>\n",
       "      <td>1</td>\n",
       "      <td>1</td>\n",
       "      <td>5</td>\n",
       "      <td>9</td>\n",
       "      <td>0.000</td>\n",
       "      <td>0</td>\n",
       "    </tr>\n",
       "    <tr>\n",
       "      <th>4</th>\n",
       "      <td>4</td>\n",
       "      <td>10</td>\n",
       "      <td>31</td>\n",
       "      <td>7</td>\n",
       "      <td>8</td>\n",
       "      <td>0.000</td>\n",
       "      <td>0</td>\n",
       "    </tr>\n",
       "  </tbody>\n",
       "</table>\n",
       "</div>"
      ],
      "text/plain": [
       "   QUARTER  MONTH  DAY_OF_MONTH  DAY_OF_WEEK  MKT_UNIQUE_CARRIER  \\\n",
       "0        3      7            28            3                   0   \n",
       "1        2      6             1            2                   9   \n",
       "2        2      4             9            5                   2   \n",
       "3        1      1             1            5                   9   \n",
       "4        4     10            31            7                   8   \n",
       "\n",
       "   CARRIER_DELAY  CARRIER_DELAY_GROUP  \n",
       "0          0.000                    0  \n",
       "1          0.000                    0  \n",
       "2          0.000                    0  \n",
       "3          0.000                    0  \n",
       "4          0.000                    0  "
      ]
     },
     "metadata": {},
     "output_type": "display_data"
    },
    {
     "data": {
      "image/png": "[encoded data removed]",
      "text/plain": [
       "<Figure size 432x288 with 2 Axes>"
      ]
     },
     "metadata": {
      "needs_background": "light"
     },
     "output_type": "display_data"
    }
   ],
   "source": [
    "# divide the carrier delay time  into 5 groups\n",
    "df_delay_carrier.loc[:,\"CARRIER_DELAY_GROUP\"]=pd.to_numeric(pd.cut(df_delay_carrier[\"CARRIER_DELAY\"],[-math.inf,0,15,30,60,math.inf],labels=[0,1,2,3,4]))\n",
    "# encode the carriers\n",
    "df_delay_carrier.loc[:,\"MKT_UNIQUE_CARRIER\"]=pd.Categorical(df_delay_carrier[\"MKT_UNIQUE_CARRIER\"]).codes\n",
    "display(df_delay_carrier.head())\n",
    "\n",
    "# plot the correlation matrix\n",
    "sns.heatmap(df_delay_carrier.corr(),annot=True, fmt = \".2f\", cmap = \"coolwarm\")\n",
    "plt.show()"
   ]
  },
  {
   "cell_type": "markdown",
   "metadata": {},
   "source": [
    "From the following box charts we could see that most of the delay time is less than 250 minutes. The distribution of delay time is correlated with these variables especially with carriers."
   ]
  },
  {
   "cell_type": "code",
   "execution_count": 11,
   "metadata": {},
   "outputs": [
    {
     "data": {
      "text/plain": [
       "<AxesSubplot:title={'center':'CARRIER_DELAY'}, xlabel='MKT_UNIQUE_CARRIER'>"
      ]
     },
     "execution_count": 11,
     "metadata": {},
     "output_type": "execute_result"
    },
    {
     "data": {
      "image/png": "[encoded data removed]",
      "text/plain": [
       "<Figure size 432x288 with 1 Axes>"
      ]
     },
     "metadata": {
      "needs_background": "light"
     },
     "output_type": "display_data"
    },
    {
     "data": {
      "image/png": "[encoded data removed]",
      "text/plain": [
       "<Figure size 432x288 with 1 Axes>"
      ]
     },
     "metadata": {
      "needs_background": "light"
     },
     "output_type": "display_data"
    },
    {
     "data": {
      "image/png": "[encoded data removed]",
      "text/plain": [
       "<Figure size 432x288 with 1 Axes>"
      ]
     },
     "metadata": {
      "needs_background": "light"
     },
     "output_type": "display_data"
    },
    {
     "data": {
      "image/png": "[encoded data removed]",
      "text/plain": [
       "<Figure size 432x288 with 1 Axes>"
      ]
     },
     "metadata": {
      "needs_background": "light"
     },
     "output_type": "display_data"
    }
   ],
   "source": [
    "# plot the box chart by each variable\n",
    "df_delay_carrier.boxplot(\"CARRIER_DELAY\",by=\"MONTH\")\n",
    "df_delay_carrier.boxplot(\"CARRIER_DELAY\",by=\"DAY_OF_MONTH\")\n",
    "df_delay_carrier.boxplot(\"CARRIER_DELAY\",by=\"DAY_OF_WEEK\")\n",
    "df_delay_carrier.boxplot(\"CARRIER_DELAY\",by=\"MKT_UNIQUE_CARRIER\")"
   ]
  },
  {
   "cell_type": "markdown",
   "metadata": {},
   "source": [
    "To use machine learning methods, we split the dataset into training set and test set. Here we first reorder the table randomly, then divide the data by indices."
   ]
  },
  {
   "cell_type": "code",
   "execution_count": 10,
   "metadata": {},
   "outputs": [],
   "source": [
    "from sklearn.utils import shuffle as reset\n",
    "\"\"\"\n",
    "    scikit-learn is a Machine Learning package in Python\n",
    "    see more details on https://scikit-learn.org/stable/index.html\n",
    "\"\"\"\n",
    "\n",
    "def train_test_split(df,test_size=0.2,shuffle=True, random_state=None):\n",
    "    \"\"\"split the dataset into train set and test test\n",
    "\n",
    "    Args:\n",
    "        df (pd.DataFrame): the dataset\n",
    "        test_size (float, optional): the precent size of test set. Defaults to 0.2.\n",
    "        shuffle (bool, optional): whether reorder the dataset randomly before spliting. Defaults to True.\n",
    "        random_state (_type_, optional): random seed. Defaults to None.\n",
    "\n",
    "    Returns:\n",
    "        train,test: train set and test set\n",
    "    \"\"\"\n",
    "    if shuffle:\n",
    "        df = reset(df, random_state=random_state)\n",
    "\t\n",
    "    train = df[int(len(df)*test_size):].reset_index(drop = True)\n",
    "    test  = df[:int(len(df)*test_size)].reset_index(drop = True)\n",
    "    \n",
    "    return train, test"
   ]
  },
  {
   "cell_type": "code",
   "execution_count": 11,
   "metadata": {},
   "outputs": [],
   "source": [
    "train,test=train_test_split(df_delay_carrier)   # split train set and test set\n",
    "carrier_feature_list=[\"DAY_OF_MONTH\",\"DAY_OF_WEEK\",\"MKT_UNIQUE_CARRIER\"]    # input featuers\n",
    "\n",
    "X_train,y_train=train[carrier_feature_list],train[\"CARRIER_DELAY_GROUP\"]\n",
    "X_test,y_test=test[carrier_feature_list],test[\"CARRIER_DELAY_GROUP\"]\n"
   ]
  },
  {
   "cell_type": "markdown",
   "metadata": {},
   "source": [
    "We also need a criteria to judge our models. Accuracy and confusion matrix could reflect the performance of the model. The accuracy contains 2 parts, accuracy rate and imbalanced accuracy rate. Accuracy rate is computed on the origin dataset and imbalanced accuracy rate is calculated on the dataset which eliminates zero samples."
   ]
  },
  {
   "cell_type": "code",
   "execution_count": 12,
   "metadata": {},
   "outputs": [],
   "source": [
    "from sklearn.metrics import confusion_matrix, ConfusionMatrixDisplay\n",
    "import joblib\n",
    "\"\"\"\n",
    "    Joblib is a set of tools to provide lightweight pipelining in Python. In particular:\n",
    "        1. transparent disk-caching of functions and lazy re-evaluation (memoize pattern)\n",
    "        2. easy simple parallel computing\n",
    "    see more details on https://joblib.readthedocs.io/en/latest/\n",
    "\"\"\"\n",
    "\n",
    "\n",
    "def check_acc(model,X_test,y_test):\n",
    "    \"\"\"check the accuracy on the input\n",
    "\n",
    "    Args:\n",
    "        model (_type_): the model be checked\n",
    "        X_test (_type_): input data\n",
    "        y_test (_type_): true labels of the input data\n",
    "\n",
    "    Returns:\n",
    "        acc: the accuracy on the whole input\n",
    "        imbalanced_acc: the accuracy on the samples excpet those with label 0\n",
    "    \"\"\"\n",
    "    y_pre=model.predict(X_test)\n",
    "    acc=((y_pre==y_test)).sum()/len(y_test)*100\n",
    "    imbalanced_acc=((y_pre==y_test) & (y_test!=0)).sum()/(y_test!=0).sum()*100\n",
    "    print(f\"acc: {acc}  imbalanced acc: {imbalanced_acc}\")\n",
    "    return acc,imbalanced_acc\n",
    "\n",
    "def plot_cm(model,X_test,y_test):\n",
    "    \"\"\"plot the confusion matrix \n",
    "\n",
    "    Args:\n",
    "        model (_type_): the model be checked\n",
    "        X_test (_type_): input data\n",
    "        y_test (_type_): true labels of the input data\n",
    "    \"\"\"\n",
    "    y_pred=model.predict(X_test)\n",
    "    cm=confusion_matrix(y_test,y_pred)\n",
    "    disp = ConfusionMatrixDisplay(confusion_matrix=cm)\n",
    "    disp.plot()\n",
    "    plt.show()\n"
   ]
  },
  {
   "cell_type": "markdown",
   "metadata": {},
   "source": [
    "Then I choose some nonlinear machine learning algorithm (naive bayes, decision tree, and neural network) training on the dataset. The score of the model are high but the confusion matrix shows that these methods have a bad performance. Only ComplementNB model learning something because it is particularly suited for imbalanced data sets (see more details on https://scikit-learn.org/stable/modules/naive_bayes.html#complement-naive-bayes)"
   ]
  },
  {
   "cell_type": "code",
   "execution_count": 15,
   "metadata": {},
   "outputs": [
    {
     "name": "stdout",
     "output_type": "stream",
     "text": [
      "[0.9010625 0.901     0.901     0.901     0.901    ]\n",
      "acc: 90.08500000000001  imbalanced acc: 0.0\n"
     ]
    },
    {
     "data": {
      "image/png": "[encoded data removed]",
      "text/plain": [
       "<Figure size 432x288 with 2 Axes>"
      ]
     },
     "metadata": {
      "needs_background": "light"
     },
     "output_type": "display_data"
    }
   ],
   "source": [
    "from sklearn.naive_bayes import GaussianNB\n",
    "from sklearn.model_selection import cross_val_score\n",
    "\n",
    "# choose model\n",
    "clf=GaussianNB()\n",
    "# train model\n",
    "clf.fit(X_train,y_train)\n",
    "\n",
    "# cross validation\n",
    "print(cross_val_score(clf,X_train,y_train,cv=5))\n",
    "\n",
    "check_acc(clf,X_test,y_test)\n",
    "plot_cm(clf,X_test,y_test)"
   ]
  },
  {
   "cell_type": "code",
   "execution_count": 13,
   "metadata": {},
   "outputs": [
    {
     "name": "stderr",
     "output_type": "stream",
     "text": [
      "C:\\ProgramData\\Anaconda3\\lib\\site-packages\\sklearn\\utils\\validation.py:70: FutureWarning: Pass alpha=1 as keyword args. From version 1.0 (renaming of 0.25) passing these as positional arguments will result in an error\n",
      "  warnings.warn(f\"Pass {args_msg} as keyword args. From version \"\n"
     ]
    },
    {
     "name": "stdout",
     "output_type": "stream",
     "text": [
      "[0.4990625 0.5119375 0.4980625 0.507625  0.498625 ]\n",
      "acc: 50.745  imbalanced acc: 19.027921406411583\n"
     ]
    },
    {
     "data": {
      "image/png": "[encoded data removed]",
      "text/plain": [
       "<Figure size 432x288 with 2 Axes>"
      ]
     },
     "metadata": {
      "needs_background": "light"
     },
     "output_type": "display_data"
    }
   ],
   "source": [
    "from sklearn.naive_bayes import ComplementNB\n",
    "from sklearn.model_selection import cross_val_score\n",
    "\n",
    "# choose model\n",
    "clf=ComplementNB(1)\n",
    "# train model\n",
    "clf.fit(X_train,y_train)\n",
    "\n",
    "# cross validation\n",
    "print(cross_val_score(clf,X_train,y_train,cv=5))\n",
    "\n",
    "check_acc(clf,X_test,y_test)\n",
    "plot_cm(clf,X_test,y_test)"
   ]
  },
  {
   "cell_type": "code",
   "execution_count": 17,
   "metadata": {},
   "outputs": [
    {
     "name": "stdout",
     "output_type": "stream",
     "text": [
      "[0.9010625 0.901     0.901     0.901     0.9009375]\n",
      "acc: 90.08500000000001  imbalanced acc: 0.0\n"
     ]
    },
    {
     "data": {
      "image/png": "[encoded data removed]",
      "text/plain": [
       "<Figure size 432x288 with 2 Axes>"
      ]
     },
     "metadata": {
      "needs_background": "light"
     },
     "output_type": "display_data"
    }
   ],
   "source": [
    "from sklearn import tree\n",
    "\n",
    "# choose model\n",
    "clf=tree.DecisionTreeClassifier(criterion=\"entropy\",splitter=\"random\",max_depth=8)\n",
    "# train model\n",
    "clf.fit(X_train,y_train)\n",
    "\n",
    "# cross validation\n",
    "print(cross_val_score(clf,X_train,y_train,cv=5))\n",
    "\n",
    "check_acc(clf,X_test,y_test)\n",
    "plot_cm(clf,X_test,y_test)"
   ]
  },
  {
   "cell_type": "code",
   "execution_count": 18,
   "metadata": {},
   "outputs": [
    {
     "name": "stdout",
     "output_type": "stream",
     "text": [
      "acc: 90.08500000000001  imbalanced acc: 0.0\n"
     ]
    },
    {
     "data": {
      "image/png": "[encoded data removed]",
      "text/plain": [
       "<Figure size 432x288 with 2 Axes>"
      ]
     },
     "metadata": {
      "needs_background": "light"
     },
     "output_type": "display_data"
    }
   ],
   "source": [
    "from sklearn.neural_network import MLPClassifier\n",
    "\n",
    "# choose model\n",
    "clf = MLPClassifier(solver='adam', batch_size=128,hidden_layer_sizes=(64, 64),)\n",
    "# train model\n",
    "clf.fit(X_train,y_train)\n",
    "\n",
    "check_acc(clf,X_test,y_test)\n",
    "plot_cm(clf,X_test,y_test)"
   ]
  },
  {
   "cell_type": "markdown",
   "metadata": {},
   "source": [
    " The delay time is imbalanced in the dataset, over 85% of the delay time is 0. This would make a great trouble in machine learning. For example, a model could achieve over 85% accuracy only need to output 0 which means the network could not learn any useful features. Therefore, balance the dataset is necessary before training process. Over sampling and under sampling are common methods, which equalize dataset by increase the sparse samples or decrease the dense samples. Here we use over sampling to enhance the sparse samples. SMOTE and ADASYN are popular over sampling methods which generate new samples by neighbor interpolation. Here we choose ADASYN which could generate samples adaptively."
   ]
  },
  {
   "cell_type": "code",
   "execution_count": 16,
   "metadata": {},
   "outputs": [
    {
     "data": {
      "text/plain": [
       "[(0, 71861), (1, 71861), (2, 71861), (3, 71861), (4, 71861)]"
      ]
     },
     "metadata": {},
     "output_type": "display_data"
    }
   ],
   "source": [
    "from collections import Counter\n",
    "from imblearn.over_sampling import SMOTE,ADASYN\n",
    "\"\"\"\n",
    "    Imbalanced-learn (imported as imblearn) is an open source, MIT-licensed library relying \n",
    "    on scikit-learn (imported as sklearn) and provides tools when dealing with classification \n",
    "    with imbalanced classes.\n",
    "    see more details on https://imbalanced-learn.org/stable/\n",
    "\"\"\"\n",
    "\n",
    "# balance the train dataset\n",
    "X_train, y_train = SMOTE().fit_resample(X_train, y_train)\n",
    "display(sorted(Counter(y_train).items()))\n"
   ]
  },
  {
   "cell_type": "markdown",
   "metadata": {},
   "source": [
    "These models are trained on the balanced dataset, and their performances are following. "
   ]
  },
  {
   "cell_type": "code",
   "execution_count": 20,
   "metadata": {},
   "outputs": [
    {
     "name": "stdout",
     "output_type": "stream",
     "text": [
      "[0.2345417  0.23383416 0.23606776 0.23520761 0.23784354]\n",
      "acc: 38.765  imbalanced acc: 20.37317196167423\n"
     ]
    },
    {
     "data": {
      "image/png": "[encoded data removed]",
      "text/plain": [
       "<Figure size 432x288 with 2 Axes>"
      ]
     },
     "metadata": {
      "needs_background": "light"
     },
     "output_type": "display_data"
    }
   ],
   "source": [
    "from sklearn.naive_bayes import GaussianNB\n",
    "from sklearn.model_selection import cross_val_score\n",
    "\n",
    "clf=GaussianNB()\n",
    "clf.fit(X_train,y_train)\n",
    "# save the model\n",
    "joblib.dump(clf,\"models/gaussian_bayes.pkl\")\n",
    "\n",
    "print(cross_val_score(clf,X_train,y_train,cv=5))\n",
    "\n",
    "check_acc(clf,X_test,y_test)\n",
    "plot_cm(clf,X_test,y_test)"
   ]
  },
  {
   "cell_type": "code",
   "execution_count": 21,
   "metadata": {},
   "outputs": [
    {
     "name": "stderr",
     "output_type": "stream",
     "text": [
      "C:\\ProgramData\\Anaconda3\\lib\\site-packages\\sklearn\\utils\\validation.py:70: FutureWarning: Pass alpha=1 as keyword args. From version 1.0 (renaming of 0.25) passing these as positional arguments will result in an error\n",
      "  warnings.warn(f\"Pass {args_msg} as keyword args. From version \"\n"
     ]
    },
    {
     "name": "stdout",
     "output_type": "stream",
     "text": [
      "[0.21832383 0.21442544 0.21341269 0.21296874 0.21633995]\n",
      "acc: 38.245000000000005  imbalanced acc: 18.204740292486132\n"
     ]
    },
    {
     "data": {
      "image/png": "[encoded data removed]",
      "text/plain": [
       "<Figure size 432x288 with 2 Axes>"
      ]
     },
     "metadata": {
      "needs_background": "light"
     },
     "output_type": "display_data"
    }
   ],
   "source": [
    "from sklearn.naive_bayes import ComplementNB\n",
    "from sklearn.model_selection import cross_val_score\n",
    "\n",
    "clf=ComplementNB(1)\n",
    "clf.fit(X_train,y_train)\n",
    "joblib.dump(clf,\"models/complement_bayes.pkl\")\n",
    "\n",
    "print(cross_val_score(clf,X_train,y_train,cv=5))\n",
    "\n",
    "check_acc(clf,X_test,y_test)\n",
    "plot_cm(clf,X_test,y_test)"
   ]
  },
  {
   "cell_type": "code",
   "execution_count": 19,
   "metadata": {},
   "outputs": [
    {
     "name": "stdout",
     "output_type": "stream",
     "text": [
      "[0.39121359 0.38170913 0.37614283 0.39171456 0.39474819]\n",
      "acc: 26.415  imbalanced acc: 24.87073422957601\n"
     ]
    },
    {
     "data": {
      "image/png": "[encoded data removed]",
      "text/plain": [
       "<Figure size 432x288 with 2 Axes>"
      ]
     },
     "metadata": {
      "needs_background": "light"
     },
     "output_type": "display_data"
    }
   ],
   "source": [
    "from sklearn import tree\n",
    "\n",
    "clf=tree.DecisionTreeClassifier(criterion=\"entropy\",splitter=\"random\",max_depth=12)\n",
    "clf.fit(X_train,y_train)\n",
    "joblib.dump(clf,\"models/tree.pkl\")\n",
    "\n",
    "print(cross_val_score(clf,X_train,y_train,cv=5))\n",
    "\n",
    "check_acc(clf,X_test,y_test)\n",
    "plot_cm(clf,X_test,y_test)"
   ]
  },
  {
   "cell_type": "code",
   "execution_count": 23,
   "metadata": {},
   "outputs": [
    {
     "name": "stdout",
     "output_type": "stream",
     "text": [
      "[0.19874863 0.20267477 0.2014123  0.20794662 0.20590724]\n",
      "acc: 7.4399999999999995  imbalanced acc: 17.95259707513868\n"
     ]
    },
    {
     "data": {
      "image/png": "[encoded data removed]",
      "text/plain": [
       "<Figure size 432x288 with 2 Axes>"
      ]
     },
     "metadata": {
      "needs_background": "light"
     },
     "output_type": "display_data"
    }
   ],
   "source": [
    "from sklearn.linear_model import SGDClassifier\n",
    "\n",
    "clf=SGDClassifier()\n",
    "clf.fit(X_train,y_train)\n",
    "joblib.dump(clf,\"models/sgd.pkl\")\n",
    "\n",
    "print(cross_val_score(clf,X_train,y_train,cv=5))\n",
    "\n",
    "check_acc(clf,X_test,y_test)\n",
    "plot_cm(clf,X_train,y_train)"
   ]
  },
  {
   "cell_type": "markdown",
   "metadata": {},
   "source": [
    "We could find that these models perform better than training on the imbalanced dataset. However, the best accuracy is about 40%. The main error is that these models would identify samples with label 0 other labels. This problem could due to that balancing dataset makes the number of other samples large than the samples with label 0, which could result in the overfitting of these models\n",
    "\n",
    "Therefore, we consider split these problem in two parts: predict whether carrier delay happen, how much the delay time is if there exists carrier delay. Then, we could generate train and test datasets for this two step, and the performance of these models is following."
   ]
  },
  {
   "cell_type": "code",
   "execution_count": 21,
   "metadata": {},
   "outputs": [
    {
     "data": {
      "text/plain": [
       "[(0, 71919), (1, 71919)]"
      ]
     },
     "metadata": {},
     "output_type": "display_data"
    }
   ],
   "source": [
    "# logistic regression dataset\n",
    "df_delay_carrier_LR=df_delay_carrier.copy()\n",
    "df_delay_carrier_LR.loc[:,\"CARRIER_DELAY_GROUP\"]=pd.to_numeric(pd.cut(df_delay_carrier[\"CARRIER_DELAY\"],[-math.inf,0,math.inf],labels=[0,1]))\n",
    "\n",
    "# spilt train and test dataset\n",
    "train,test=train_test_split(df_delay_carrier_LR)\n",
    "carrier_feature_list=[\"DAY_OF_MONTH\",\"DAY_OF_WEEK\",\"MKT_UNIQUE_CARRIER\"]\n",
    "\n",
    "X_train_LR,y_train_LR=train[carrier_feature_list],train[\"CARRIER_DELAY_GROUP\"]\n",
    "X_test_LR,y_test_LR=test[carrier_feature_list],test[\"CARRIER_DELAY_GROUP\"]\n",
    "\n",
    "# balance the train dataset\n",
    "X_train_LR, y_train_LR = SMOTE().fit_resample(X_train_LR, y_train_LR)\n",
    "display(sorted(Counter(y_train_LR).items()))"
   ]
  },
  {
   "cell_type": "code",
   "execution_count": 25,
   "metadata": {},
   "outputs": [
    {
     "name": "stdout",
     "output_type": "stream",
     "text": [
      "[0.54303165 0.5405865  0.55089363 0.54284227 0.54377928]\n",
      "acc: 59.63  imbalanced acc: 49.381443298969074\n"
     ]
    },
    {
     "data": {
      "image/png": "[encoded data removed]",
      "text/plain": [
       "<Figure size 432x288 with 2 Axes>"
      ]
     },
     "metadata": {
      "needs_background": "light"
     },
     "output_type": "display_data"
    }
   ],
   "source": [
    "clf=GaussianNB()\n",
    "clf.fit(X_train_LR,y_train_LR)\n",
    "\n",
    "print(cross_val_score(clf,X_train_LR,y_train_LR,cv=5))\n",
    "joblib.dump(clf,\"models/gaussian_bayes_LR.pkl\")\n",
    "\n",
    "check_acc(clf,X_test_LR,y_test_LR)\n",
    "plot_cm(clf,X_test_LR,y_test_LR)"
   ]
  },
  {
   "cell_type": "code",
   "execution_count": 26,
   "metadata": {},
   "outputs": [
    {
     "name": "stderr",
     "output_type": "stream",
     "text": [
      "C:\\ProgramData\\Anaconda3\\lib\\site-packages\\sklearn\\utils\\validation.py:70: FutureWarning: Pass alpha=1 as keyword args. From version 1.0 (renaming of 0.25) passing these as positional arguments will result in an error\n",
      "  warnings.warn(f\"Pass {args_msg} as keyword args. From version \"\n"
     ]
    },
    {
     "name": "stdout",
     "output_type": "stream",
     "text": [
      "[0.52911577 0.53211869 0.53760194 0.533021   0.5322228 ]\n",
      "acc: 54.38499999999999  imbalanced acc: 53.81443298969072\n"
     ]
    },
    {
     "data": {
      "image/png": "[encoded data removed]",
      "text/plain": [
       "<Figure size 432x288 with 2 Axes>"
      ]
     },
     "metadata": {
      "needs_background": "light"
     },
     "output_type": "display_data"
    }
   ],
   "source": [
    "clf=ComplementNB(1)\n",
    "clf.fit(X_train_LR,y_train_LR)\n",
    "\n",
    "print(cross_val_score(clf,X_train_LR,y_train_LR,cv=5))\n",
    "joblib.dump(clf,\"models/complement_bayes_LR.pkl\")\n",
    "\n",
    "check_acc(clf,X_test_LR,y_test_LR)\n",
    "plot_cm(clf,X_test_LR,y_test_LR)"
   ]
  },
  {
   "cell_type": "code",
   "execution_count": 22,
   "metadata": {},
   "outputs": [
    {
     "name": "stdout",
     "output_type": "stream",
     "text": [
      "[0.62725945 0.6397386  0.64224138 0.63861369 0.6397956 ]\n",
      "acc: 59.155  imbalanced acc: 55.773092369477915\n"
     ]
    },
    {
     "data": {
      "image/png": "[encoded data removed]",
      "text/plain": [
       "<Figure size 432x288 with 2 Axes>"
      ]
     },
     "metadata": {
      "needs_background": "light"
     },
     "output_type": "display_data"
    }
   ],
   "source": [
    "clf=tree.DecisionTreeClassifier(criterion=\"entropy\",splitter=\"random\",max_depth=15)\n",
    "clf.fit(X_train_LR,y_train_LR)\n",
    "joblib.dump(clf,\"models/tree_LR.pkl\")\n",
    "\n",
    "print(cross_val_score(clf,X_train_LR,y_train_LR,cv=5))\n",
    "\n",
    "check_acc(clf,X_test_LR,y_test_LR)\n",
    "plot_cm(clf,X_test_LR,y_test_LR)"
   ]
  },
  {
   "cell_type": "code",
   "execution_count": 28,
   "metadata": {},
   "outputs": [
    {
     "name": "stdout",
     "output_type": "stream",
     "text": [
      "[0.50086757 0.50001735 0.51258025 0.50747874 0.51330904]\n",
      "acc: 55.86  imbalanced acc: 52.52577319587629\n"
     ]
    },
    {
     "data": {
      "image/png": "[encoded data removed]",
      "text/plain": [
       "<Figure size 432x288 with 2 Axes>"
      ]
     },
     "metadata": {
      "needs_background": "light"
     },
     "output_type": "display_data"
    }
   ],
   "source": [
    "clf=SGDClassifier()\n",
    "clf.fit(X_train_LR,y_train_LR)\n",
    "joblib.dump(clf,\"models/sgd_LR.pkl\")\n",
    "\n",
    "print(cross_val_score(clf,X_train_LR,y_train_LR,cv=5))\n",
    "\n",
    "check_acc(clf,X_test_LR,y_test_LR)\n",
    "plot_cm(clf,X_test_LR,y_test_LR)"
   ]
  },
  {
   "cell_type": "code",
   "execution_count": 29,
   "metadata": {},
   "outputs": [
    {
     "name": "stdout",
     "output_type": "stream",
     "text": [
      "acc: 68.91000000000001  imbalanced acc: 41.907216494845365\n"
     ]
    },
    {
     "data": {
      "image/png": "[encoded data removed]",
      "text/plain": [
       "<Figure size 432x288 with 2 Axes>"
      ]
     },
     "metadata": {
      "needs_background": "light"
     },
     "output_type": "display_data"
    }
   ],
   "source": [
    "clf = MLPClassifier(solver='adam', batch_size=128,hidden_layer_sizes=(64, 64),)\n",
    "clf.fit(X_train_LR,y_train_LR)\n",
    "joblib.dump(clf,'models/mlp_LR.pkl')\n",
    "\n",
    "check_acc(clf,X_test_LR,y_test_LR)\n",
    "plot_cm(clf,X_test_LR,y_test_LR)"
   ]
  },
  {
   "cell_type": "markdown",
   "metadata": {},
   "source": [
    "The most accuracy on the first step is about 60% by the decision tree model\n",
    "\n",
    "Then we extract the samples except with label 0 from the origin dataset to train the second step models. This dataset is balanced so it could train the model directly."
   ]
  },
  {
   "cell_type": "code",
   "execution_count": 23,
   "metadata": {},
   "outputs": [
    {
     "data": {
      "text/plain": [
       "[(1, 3234), (2, 2539), (3, 1610), (4, 1683)]"
      ]
     },
     "metadata": {},
     "output_type": "display_data"
    }
   ],
   "source": [
    "# extract classification dataset\n",
    "df_delay_carrier_cl=df_delay_carrier[df_delay_carrier[\"CARRIER_DELAY_GROUP\"]>0]\n",
    "\n",
    "# split dataset\n",
    "train,test=train_test_split(df_delay_carrier_cl,test_size=0.1)\n",
    "carrier_feature_list=[\"DAY_OF_MONTH\",\"DAY_OF_WEEK\",\"MKT_UNIQUE_CARRIER\"]\n",
    "\n",
    "X_train_cl,y_train_cl=train[carrier_feature_list],train[\"CARRIER_DELAY_GROUP\"]\n",
    "X_test_cl,y_test_cl=test[carrier_feature_list],test[\"CARRIER_DELAY_GROUP\"]\n",
    "display(sorted(Counter(y_train_cl).items()))\n"
   ]
  },
  {
   "cell_type": "code",
   "execution_count": 31,
   "metadata": {},
   "outputs": [
    {
     "name": "stdout",
     "output_type": "stream",
     "text": [
      "[0.37016265 0.37016265 0.37037037 0.3698092  0.37037037]\n",
      "acc: 37.27272727272727  imbalanced acc: 37.27272727272727\n"
     ]
    },
    {
     "data": {
      "image/png": "[encoded data removed]",
      "text/plain": [
       "<Figure size 432x288 with 2 Axes>"
      ]
     },
     "metadata": {
      "needs_background": "light"
     },
     "output_type": "display_data"
    }
   ],
   "source": [
    "clf=GaussianNB()\n",
    "clf.fit(X_train_cl,y_train_cl)\n",
    "\n",
    "print(cross_val_score(clf,X_train_cl,y_train_cl,cv=5))\n",
    "joblib.dump(clf,\"models/gaussian_bayes_cl.pkl\")\n",
    "\n",
    "check_acc(clf,X_test_cl,y_test_cl)\n",
    "plot_cm(clf,X_test_cl,y_test_cl)"
   ]
  },
  {
   "cell_type": "code",
   "execution_count": 32,
   "metadata": {},
   "outputs": [
    {
     "name": "stdout",
     "output_type": "stream",
     "text": [
      "[0.29108245 0.24060572 0.27441077 0.2312009  0.2654321 ]\n",
      "acc: 28.18181818181818  imbalanced acc: 28.18181818181818\n"
     ]
    },
    {
     "data": {
      "image/png": "[encoded data removed]",
      "text/plain": [
       "<Figure size 432x288 with 2 Axes>"
      ]
     },
     "metadata": {
      "needs_background": "light"
     },
     "output_type": "display_data"
    }
   ],
   "source": [
    "clf=ComplementNB()\n",
    "clf.fit(X_train_cl,y_train_cl)\n",
    "\n",
    "print(cross_val_score(clf,X_train_cl,y_train_cl,cv=5))\n",
    "joblib.dump(clf,\"models/complement_bayes_cl.pkl\")\n",
    "\n",
    "check_acc(clf,X_test_cl,y_test_cl)\n",
    "plot_cm(clf,X_test_cl,y_test_cl)"
   ]
  },
  {
   "cell_type": "code",
   "execution_count": 39,
   "metadata": {},
   "outputs": [
    {
     "name": "stdout",
     "output_type": "stream",
     "text": [
      "[0.37045204 0.36900165 0.37286266 0.38223938 0.37948152]\n",
      "acc: 39.026812313803376  imbalanced acc: 39.026812313803376\n"
     ]
    },
    {
     "data": {
      "image/png": "[encoded data removed]",
      "text/plain": [
       "<Figure size 432x288 with 2 Axes>"
      ]
     },
     "metadata": {
      "needs_background": "light"
     },
     "output_type": "display_data"
    }
   ],
   "source": [
    "clf=tree.DecisionTreeClassifier(criterion=\"entropy\",splitter=\"random\",max_depth=7)\n",
    "clf.fit(X_train_cl,y_train_cl)\n",
    "joblib.dump(clf,\"models/tree_cl.pkl\")\n",
    "\n",
    "print(cross_val_score(clf,X_train_cl,y_train_cl,cv=5))\n",
    "\n",
    "check_acc(clf,X_test_cl,y_test_cl)\n",
    "plot_cm(clf,X_test_cl,y_test_cl)"
   ]
  },
  {
   "cell_type": "code",
   "execution_count": 34,
   "metadata": {},
   "outputs": [
    {
     "name": "stdout",
     "output_type": "stream",
     "text": [
      "[0.23443634 0.27257431 0.28619529 0.32098765 0.19023569]\n",
      "acc: 31.515151515151512  imbalanced acc: 31.515151515151512\n"
     ]
    },
    {
     "data": {
      "image/png": "[encoded data removed]",
      "text/plain": [
       "<Figure size 432x288 with 2 Axes>"
      ]
     },
     "metadata": {
      "needs_background": "light"
     },
     "output_type": "display_data"
    }
   ],
   "source": [
    "clf=SGDClassifier(random_state=2)\n",
    "clf.fit(X_train_cl,y_train_cl)\n",
    "joblib.dump(clf,\"models/sgd_cl.pkl\")\n",
    "\n",
    "print(cross_val_score(clf,X_train_cl,y_train_cl,cv=5))\n",
    "\n",
    "check_acc(clf,X_test_cl,y_test_cl)\n",
    "plot_cm(clf,X_test_cl,y_test_cl)"
   ]
  },
  {
   "cell_type": "code",
   "execution_count": 35,
   "metadata": {},
   "outputs": [
    {
     "name": "stdout",
     "output_type": "stream",
     "text": [
      "acc: 36.666666666666664  imbalanced acc: 36.666666666666664\n"
     ]
    },
    {
     "data": {
      "image/png": "[encoded data removed]",
      "text/plain": [
       "<Figure size 432x288 with 2 Axes>"
      ]
     },
     "metadata": {
      "needs_background": "light"
     },
     "output_type": "display_data"
    }
   ],
   "source": [
    "clf = MLPClassifier(solver='sgd', batch_size=64,hidden_layer_sizes=(32,32,),)\n",
    "clf.fit(X_train_cl,y_train_cl)\n",
    "joblib.dump(clf,'models/mlp_cl.pkl')\n",
    "\n",
    "check_acc(clf,X_test_cl,y_test_cl)\n",
    "plot_cm(clf,X_test_cl,y_test_cl)"
   ]
  },
  {
   "cell_type": "markdown",
   "metadata": {},
   "source": [
    "The most accuracy on the classification is about 40% by the decision tree model. And the tree model have a good performance on class 1 ((0,15]) and class 2 ((15,60]). Finally, we could combine the best model in the two steps to make the prediction."
   ]
  },
  {
   "cell_type": "code",
   "execution_count": 41,
   "metadata": {},
   "outputs": [
    {
     "data": {
      "text/plain": [
       "array([0], dtype=int64)"
      ]
     },
     "execution_count": 41,
     "metadata": {},
     "output_type": "execute_result"
    }
   ],
   "source": [
    "def predict_carrier_delay(input):\n",
    "    \"\"\"predict the carrier delay based on month, day of month, day of week, carrier\n",
    "\n",
    "    Args:\n",
    "        input (_type_): a vector input month, day of month, day of week, carrier\n",
    "\n",
    "    Returns:\n",
    "        delay_time: an interger describing the group of delay time\n",
    "    \"\"\"\n",
    "    model_first=joblib.load(\"models/tree_LR.pkl\")\n",
    "    model_second=joblib.load(\"models/tree_cl.pkl\")\n",
    "    is_delay=model_first.predict([input])\n",
    "    if is_delay==0:\n",
    "        return is_delay\n",
    "    delay_time=model_second.predict([input])\n",
    "    return delay_time\n",
    "predict_carrier_delay(X_test.loc[0])"
   ]
  },
  {
   "cell_type": "markdown",
   "metadata": {},
   "source": [
    "## Weather Delay Analysis\n",
    "\n",
    "Weather delay time is correlated with the weather in the origin city and destination city of the flight. Here we collected the weather data of all the cities in the flight table (see more details in `data_collection.ipynb`). This part I trained a neural network to predict the weather delay due to the weather information is a long vector and the number of data is serval millions"
   ]
  },
  {
   "cell_type": "markdown",
   "metadata": {},
   "source": [
    "Fetch flight data from flight table in the database"
   ]
  },
  {
   "cell_type": "code",
   "execution_count": 42,
   "metadata": {},
   "outputs": [
    {
     "data": {
      "text/html": [
       "<div>\n",
       "<style scoped>\n",
       "    .dataframe tbody tr th:only-of-type {\n",
       "        vertical-align: middle;\n",
       "    }\n",
       "\n",
       "    .dataframe tbody tr th {\n",
       "        vertical-align: top;\n",
       "    }\n",
       "\n",
       "    .dataframe thead th {\n",
       "        text-align: right;\n",
       "    }\n",
       "</style>\n",
       "<table border=\"1\" class=\"dataframe\">\n",
       "  <thead>\n",
       "    <tr style=\"text-align: right;\">\n",
       "      <th></th>\n",
       "      <th>MONTH</th>\n",
       "      <th>DAY_OF_MONTH</th>\n",
       "      <th>ORIGIN_CITY_NAME</th>\n",
       "      <th>DEST_CITY_NAME</th>\n",
       "      <th>AIR_TIME</th>\n",
       "      <th>DISTANCE</th>\n",
       "      <th>ARR_DELAY</th>\n",
       "      <th>ARR_DELAY_NEW</th>\n",
       "      <th>CARRIER_DELAY</th>\n",
       "      <th>WEATHER_DELAY</th>\n",
       "      <th>NAS_DELAY</th>\n",
       "      <th>SECURITY_DELAY</th>\n",
       "      <th>LATE_AIRCRAFT_DELAY</th>\n",
       "    </tr>\n",
       "  </thead>\n",
       "  <tbody>\n",
       "    <tr>\n",
       "      <th>0</th>\n",
       "      <td>5</td>\n",
       "      <td>22</td>\n",
       "      <td>Grand Rapids, MI</td>\n",
       "      <td>Minneapolis, MN</td>\n",
       "      <td>63.000</td>\n",
       "      <td>408.000</td>\n",
       "      <td>-25.000</td>\n",
       "      <td>0.000</td>\n",
       "      <td>0.000</td>\n",
       "      <td>0.000</td>\n",
       "      <td>0.000</td>\n",
       "      <td>0.000</td>\n",
       "      <td>0.000</td>\n",
       "    </tr>\n",
       "    <tr>\n",
       "      <th>1</th>\n",
       "      <td>2</td>\n",
       "      <td>20</td>\n",
       "      <td>Evansville, IN</td>\n",
       "      <td>Charlotte, NC</td>\n",
       "      <td>66.000</td>\n",
       "      <td>414.000</td>\n",
       "      <td>3.000</td>\n",
       "      <td>3.000</td>\n",
       "      <td>0.000</td>\n",
       "      <td>0.000</td>\n",
       "      <td>0.000</td>\n",
       "      <td>0.000</td>\n",
       "      <td>0.000</td>\n",
       "    </tr>\n",
       "    <tr>\n",
       "      <th>2</th>\n",
       "      <td>5</td>\n",
       "      <td>6</td>\n",
       "      <td>Portland, OR</td>\n",
       "      <td>San Diego, CA</td>\n",
       "      <td>138.000</td>\n",
       "      <td>933.000</td>\n",
       "      <td>0.000</td>\n",
       "      <td>0.000</td>\n",
       "      <td>0.000</td>\n",
       "      <td>0.000</td>\n",
       "      <td>0.000</td>\n",
       "      <td>0.000</td>\n",
       "      <td>0.000</td>\n",
       "    </tr>\n",
       "    <tr>\n",
       "      <th>3</th>\n",
       "      <td>6</td>\n",
       "      <td>17</td>\n",
       "      <td>Dallas, TX</td>\n",
       "      <td>Long Beach, CA</td>\n",
       "      <td>158.000</td>\n",
       "      <td>1232.000</td>\n",
       "      <td>7.000</td>\n",
       "      <td>7.000</td>\n",
       "      <td>0.000</td>\n",
       "      <td>0.000</td>\n",
       "      <td>0.000</td>\n",
       "      <td>0.000</td>\n",
       "      <td>0.000</td>\n",
       "    </tr>\n",
       "    <tr>\n",
       "      <th>4</th>\n",
       "      <td>12</td>\n",
       "      <td>23</td>\n",
       "      <td>Chicago, IL</td>\n",
       "      <td>Jackson, WY</td>\n",
       "      <td>211.000</td>\n",
       "      <td>1162.000</td>\n",
       "      <td>366.000</td>\n",
       "      <td>366.000</td>\n",
       "      <td>244.000</td>\n",
       "      <td>0.000</td>\n",
       "      <td>39.000</td>\n",
       "      <td>0.000</td>\n",
       "      <td>83.000</td>\n",
       "    </tr>\n",
       "  </tbody>\n",
       "</table>\n",
       "</div>"
      ],
      "text/plain": [
       "   MONTH  DAY_OF_MONTH  ORIGIN_CITY_NAME   DEST_CITY_NAME  AIR_TIME  DISTANCE  \\\n",
       "0      5            22  Grand Rapids, MI  Minneapolis, MN    63.000   408.000   \n",
       "1      2            20    Evansville, IN    Charlotte, NC    66.000   414.000   \n",
       "2      5             6      Portland, OR    San Diego, CA   138.000   933.000   \n",
       "3      6            17        Dallas, TX   Long Beach, CA   158.000  1232.000   \n",
       "4     12            23       Chicago, IL      Jackson, WY   211.000  1162.000   \n",
       "\n",
       "   ARR_DELAY  ARR_DELAY_NEW  CARRIER_DELAY  WEATHER_DELAY  NAS_DELAY  \\\n",
       "0    -25.000          0.000          0.000          0.000      0.000   \n",
       "1      3.000          3.000          0.000          0.000      0.000   \n",
       "2      0.000          0.000          0.000          0.000      0.000   \n",
       "3      7.000          7.000          0.000          0.000      0.000   \n",
       "4    366.000        366.000        244.000          0.000     39.000   \n",
       "\n",
       "   SECURITY_DELAY  LATE_AIRCRAFT_DELAY  \n",
       "0           0.000                0.000  \n",
       "1           0.000                0.000  \n",
       "2           0.000                0.000  \n",
       "3           0.000                0.000  \n",
       "4           0.000               83.000  "
      ]
     },
     "execution_count": 42,
     "metadata": {},
     "output_type": "execute_result"
    }
   ],
   "source": [
    "sql='''SELECT \n",
    "        MONTH,\n",
    "        DAY_OF_MONTH,\n",
    "        ORIGIN_CITY_NAME,\n",
    "        DEST_CITY_NAME,\n",
    "        AIR_TIME,\n",
    "        DISTANCE,\n",
    "        ARR_DELAY,\n",
    "        ARR_DELAY_NEW,\n",
    "        CARRIER_DELAY,\n",
    "        WEATHER_DELAY,\n",
    "        NAS_DELAY,\n",
    "        SECURITY_DELAY,\n",
    "        LATE_AIRCRAFT_DELAY FROM flight\n",
    "        ORDER BY RANDOM()\n",
    "        LIMIT 100000;'''\n",
    "        \n",
    "df_delay=pd.read_sql(sql,db)\n",
    "\n",
    "# NaN in this table means 0, replace NaN by 0\n",
    "df_delay=df_delay.fillna(0)\n",
    "df_delay.head()"
   ]
  },
  {
   "cell_type": "markdown",
   "metadata": {},
   "source": [
    "Fetch weather data of all the cities from weather table in the database and normalization these data. Normalization on input is essential for neural network because if the number in the input vector is big, the parameters of the network could be very small, the computer float error would influence the performance of neural network."
   ]
  },
  {
   "cell_type": "code",
   "execution_count": 40,
   "metadata": {},
   "outputs": [
    {
     "data": {
      "text/html": [
       "<div>\n",
       "<style scoped>\n",
       "    .dataframe tbody tr th:only-of-type {\n",
       "        vertical-align: middle;\n",
       "    }\n",
       "\n",
       "    .dataframe tbody tr th {\n",
       "        vertical-align: top;\n",
       "    }\n",
       "\n",
       "    .dataframe thead th {\n",
       "        text-align: right;\n",
       "    }\n",
       "</style>\n",
       "<table border=\"1\" class=\"dataframe\">\n",
       "  <thead>\n",
       "    <tr style=\"text-align: right;\">\n",
       "      <th></th>\n",
       "      <th>city_name</th>\n",
       "      <th>month</th>\n",
       "      <th>day</th>\n",
       "      <th>temp_min</th>\n",
       "      <th>temp_max</th>\n",
       "      <th>temp_mean</th>\n",
       "      <th>pressure_min</th>\n",
       "      <th>pressure_max</th>\n",
       "      <th>pressure_mean</th>\n",
       "      <th>humidity_min</th>\n",
       "      <th>humidity_max</th>\n",
       "      <th>humidity_mean</th>\n",
       "      <th>wind_min</th>\n",
       "      <th>wind_max</th>\n",
       "      <th>wind_mean</th>\n",
       "      <th>precipitation_min</th>\n",
       "      <th>precipitation_max</th>\n",
       "      <th>precipitation_mean</th>\n",
       "      <th>clouds_min</th>\n",
       "      <th>clouds_max</th>\n",
       "      <th>clouds_mean</th>\n",
       "    </tr>\n",
       "  </thead>\n",
       "  <tbody>\n",
       "    <tr>\n",
       "      <th>0</th>\n",
       "      <td>San Jose, CA</td>\n",
       "      <td>1</td>\n",
       "      <td>1</td>\n",
       "      <td>276</td>\n",
       "      <td>286.680</td>\n",
       "      <td>280.690</td>\n",
       "      <td>1012</td>\n",
       "      <td>1028</td>\n",
       "      <td>1020.260</td>\n",
       "      <td>23</td>\n",
       "      <td>100</td>\n",
       "      <td>68.590</td>\n",
       "      <td>0</td>\n",
       "      <td>10.300</td>\n",
       "      <td>2.140</td>\n",
       "      <td>0</td>\n",
       "      <td>0.300</td>\n",
       "      <td>0</td>\n",
       "      <td>0</td>\n",
       "      <td>90</td>\n",
       "      <td>23.200</td>\n",
       "    </tr>\n",
       "    <tr>\n",
       "      <th>1</th>\n",
       "      <td>San Jose, CA</td>\n",
       "      <td>1</td>\n",
       "      <td>2</td>\n",
       "      <td>277.43</td>\n",
       "      <td>287.370</td>\n",
       "      <td>281.300</td>\n",
       "      <td>995</td>\n",
       "      <td>1029</td>\n",
       "      <td>1021.060</td>\n",
       "      <td>21</td>\n",
       "      <td>100</td>\n",
       "      <td>71.180</td>\n",
       "      <td>0</td>\n",
       "      <td>8.700</td>\n",
       "      <td>1.750</td>\n",
       "      <td>0</td>\n",
       "      <td>0.900</td>\n",
       "      <td>0.03</td>\n",
       "      <td>0</td>\n",
       "      <td>100</td>\n",
       "      <td>32.670</td>\n",
       "    </tr>\n",
       "    <tr>\n",
       "      <th>2</th>\n",
       "      <td>San Jose, CA</td>\n",
       "      <td>1</td>\n",
       "      <td>3</td>\n",
       "      <td>277.98</td>\n",
       "      <td>287.330</td>\n",
       "      <td>281.730</td>\n",
       "      <td>1004</td>\n",
       "      <td>1026</td>\n",
       "      <td>1019.850</td>\n",
       "      <td>16</td>\n",
       "      <td>100</td>\n",
       "      <td>74.400</td>\n",
       "      <td>0</td>\n",
       "      <td>12.900</td>\n",
       "      <td>1.930</td>\n",
       "      <td>0</td>\n",
       "      <td>3.000</td>\n",
       "      <td>0.06</td>\n",
       "      <td>0</td>\n",
       "      <td>92</td>\n",
       "      <td>33.290</td>\n",
       "    </tr>\n",
       "    <tr>\n",
       "      <th>3</th>\n",
       "      <td>San Jose, CA</td>\n",
       "      <td>1</td>\n",
       "      <td>4</td>\n",
       "      <td>279.73</td>\n",
       "      <td>287.850</td>\n",
       "      <td>282.850</td>\n",
       "      <td>1006</td>\n",
       "      <td>1031</td>\n",
       "      <td>1019.400</td>\n",
       "      <td>35</td>\n",
       "      <td>100</td>\n",
       "      <td>79.360</td>\n",
       "      <td>0</td>\n",
       "      <td>14.400</td>\n",
       "      <td>2.340</td>\n",
       "      <td>0</td>\n",
       "      <td>3.000</td>\n",
       "      <td>0.19</td>\n",
       "      <td>0</td>\n",
       "      <td>100</td>\n",
       "      <td>50.490</td>\n",
       "    </tr>\n",
       "    <tr>\n",
       "      <th>4</th>\n",
       "      <td>San Jose, CA</td>\n",
       "      <td>1</td>\n",
       "      <td>5</td>\n",
       "      <td>279.11</td>\n",
       "      <td>288.110</td>\n",
       "      <td>282.850</td>\n",
       "      <td>1002</td>\n",
       "      <td>1036</td>\n",
       "      <td>1020.420</td>\n",
       "      <td>26</td>\n",
       "      <td>100</td>\n",
       "      <td>78.270</td>\n",
       "      <td>0</td>\n",
       "      <td>11.300</td>\n",
       "      <td>2.290</td>\n",
       "      <td>0</td>\n",
       "      <td>3.000</td>\n",
       "      <td>0.15</td>\n",
       "      <td>0</td>\n",
       "      <td>91</td>\n",
       "      <td>41.690</td>\n",
       "    </tr>\n",
       "  </tbody>\n",
       "</table>\n",
       "</div>"
      ],
      "text/plain": [
       "      city_name  month  day temp_min  temp_max  temp_mean  pressure_min  \\\n",
       "0  San Jose, CA      1    1      276   286.680    280.690          1012   \n",
       "1  San Jose, CA      1    2   277.43   287.370    281.300           995   \n",
       "2  San Jose, CA      1    3   277.98   287.330    281.730          1004   \n",
       "3  San Jose, CA      1    4   279.73   287.850    282.850          1006   \n",
       "4  San Jose, CA      1    5   279.11   288.110    282.850          1002   \n",
       "\n",
       "   pressure_max  pressure_mean  humidity_min  humidity_max  humidity_mean  \\\n",
       "0          1028       1020.260            23           100         68.590   \n",
       "1          1029       1021.060            21           100         71.180   \n",
       "2          1026       1019.850            16           100         74.400   \n",
       "3          1031       1019.400            35           100         79.360   \n",
       "4          1036       1020.420            26           100         78.270   \n",
       "\n",
       "  wind_min  wind_max  wind_mean  precipitation_min  precipitation_max  \\\n",
       "0        0    10.300      2.140                  0              0.300   \n",
       "1        0     8.700      1.750                  0              0.900   \n",
       "2        0    12.900      1.930                  0              3.000   \n",
       "3        0    14.400      2.340                  0              3.000   \n",
       "4        0    11.300      2.290                  0              3.000   \n",
       "\n",
       "  precipitation_mean  clouds_min  clouds_max  clouds_mean  \n",
       "0                  0           0          90       23.200  \n",
       "1               0.03           0         100       32.670  \n",
       "2               0.06           0          92       33.290  \n",
       "3               0.19           0         100       50.490  \n",
       "4               0.15           0          91       41.690  "
      ]
     },
     "metadata": {},
     "output_type": "display_data"
    },
    {
     "data": {
      "text/html": [
       "<div>\n",
       "<style scoped>\n",
       "    .dataframe tbody tr th:only-of-type {\n",
       "        vertical-align: middle;\n",
       "    }\n",
       "\n",
       "    .dataframe tbody tr th {\n",
       "        vertical-align: top;\n",
       "    }\n",
       "\n",
       "    .dataframe thead th {\n",
       "        text-align: right;\n",
       "    }\n",
       "</style>\n",
       "<table border=\"1\" class=\"dataframe\">\n",
       "  <thead>\n",
       "    <tr style=\"text-align: right;\">\n",
       "      <th></th>\n",
       "      <th>city_name</th>\n",
       "      <th>month</th>\n",
       "      <th>day</th>\n",
       "      <th>temp_min</th>\n",
       "      <th>temp_max</th>\n",
       "      <th>temp_mean</th>\n",
       "      <th>pressure_min</th>\n",
       "      <th>pressure_max</th>\n",
       "      <th>pressure_mean</th>\n",
       "      <th>humidity_min</th>\n",
       "      <th>humidity_max</th>\n",
       "      <th>humidity_mean</th>\n",
       "      <th>wind_min</th>\n",
       "      <th>wind_max</th>\n",
       "      <th>wind_mean</th>\n",
       "      <th>precipitation_min</th>\n",
       "      <th>precipitation_max</th>\n",
       "      <th>precipitation_mean</th>\n",
       "      <th>clouds_min</th>\n",
       "      <th>clouds_max</th>\n",
       "      <th>clouds_mean</th>\n",
       "    </tr>\n",
       "  </thead>\n",
       "  <tbody>\n",
       "    <tr>\n",
       "      <th>0</th>\n",
       "      <td>San Jose, CA</td>\n",
       "      <td>1</td>\n",
       "      <td>1</td>\n",
       "      <td>-0.639</td>\n",
       "      <td>-0.561</td>\n",
       "      <td>-0.609</td>\n",
       "      <td>0.450</td>\n",
       "      <td>-0.083</td>\n",
       "      <td>1.027</td>\n",
       "      <td>-0.273</td>\n",
       "      <td>0.286</td>\n",
       "      <td>0.034</td>\n",
       "      <td>-0.514</td>\n",
       "      <td>-0.056</td>\n",
       "      <td>-1.352</td>\n",
       "      <td>0.000</td>\n",
       "      <td>-0.780</td>\n",
       "      <td>-0.913</td>\n",
       "      <td>-0.161</td>\n",
       "      <td>-0.927</td>\n",
       "      <td>-1.122</td>\n",
       "    </tr>\n",
       "    <tr>\n",
       "      <th>1</th>\n",
       "      <td>San Jose, CA</td>\n",
       "      <td>1</td>\n",
       "      <td>2</td>\n",
       "      <td>-0.492</td>\n",
       "      <td>-0.494</td>\n",
       "      <td>-0.548</td>\n",
       "      <td>0.249</td>\n",
       "      <td>0.046</td>\n",
       "      <td>1.178</td>\n",
       "      <td>-0.431</td>\n",
       "      <td>0.286</td>\n",
       "      <td>0.254</td>\n",
       "      <td>-0.514</td>\n",
       "      <td>-0.164</td>\n",
       "      <td>-1.771</td>\n",
       "      <td>0.000</td>\n",
       "      <td>-0.567</td>\n",
       "      <td>-0.618</td>\n",
       "      <td>-0.161</td>\n",
       "      <td>0.949</td>\n",
       "      <td>-0.484</td>\n",
       "    </tr>\n",
       "    <tr>\n",
       "      <th>2</th>\n",
       "      <td>San Jose, CA</td>\n",
       "      <td>1</td>\n",
       "      <td>3</td>\n",
       "      <td>-0.435</td>\n",
       "      <td>-0.498</td>\n",
       "      <td>-0.505</td>\n",
       "      <td>0.355</td>\n",
       "      <td>-0.340</td>\n",
       "      <td>0.949</td>\n",
       "      <td>-0.825</td>\n",
       "      <td>0.286</td>\n",
       "      <td>0.528</td>\n",
       "      <td>-0.514</td>\n",
       "      <td>0.121</td>\n",
       "      <td>-1.577</td>\n",
       "      <td>0.000</td>\n",
       "      <td>0.177</td>\n",
       "      <td>-0.323</td>\n",
       "      <td>-0.161</td>\n",
       "      <td>-0.552</td>\n",
       "      <td>-0.442</td>\n",
       "    </tr>\n",
       "    <tr>\n",
       "      <th>3</th>\n",
       "      <td>San Jose, CA</td>\n",
       "      <td>1</td>\n",
       "      <td>4</td>\n",
       "      <td>-0.255</td>\n",
       "      <td>-0.447</td>\n",
       "      <td>-0.393</td>\n",
       "      <td>0.379</td>\n",
       "      <td>0.304</td>\n",
       "      <td>0.863</td>\n",
       "      <td>0.673</td>\n",
       "      <td>0.286</td>\n",
       "      <td>0.951</td>\n",
       "      <td>-0.514</td>\n",
       "      <td>0.223</td>\n",
       "      <td>-1.137</td>\n",
       "      <td>0.000</td>\n",
       "      <td>0.177</td>\n",
       "      <td>0.956</td>\n",
       "      <td>-0.161</td>\n",
       "      <td>0.949</td>\n",
       "      <td>0.717</td>\n",
       "    </tr>\n",
       "    <tr>\n",
       "      <th>4</th>\n",
       "      <td>San Jose, CA</td>\n",
       "      <td>1</td>\n",
       "      <td>5</td>\n",
       "      <td>-0.319</td>\n",
       "      <td>-0.422</td>\n",
       "      <td>-0.393</td>\n",
       "      <td>0.332</td>\n",
       "      <td>0.949</td>\n",
       "      <td>1.057</td>\n",
       "      <td>-0.037</td>\n",
       "      <td>0.286</td>\n",
       "      <td>0.858</td>\n",
       "      <td>-0.514</td>\n",
       "      <td>0.012</td>\n",
       "      <td>-1.191</td>\n",
       "      <td>0.000</td>\n",
       "      <td>0.177</td>\n",
       "      <td>0.563</td>\n",
       "      <td>-0.161</td>\n",
       "      <td>-0.740</td>\n",
       "      <td>0.124</td>\n",
       "    </tr>\n",
       "  </tbody>\n",
       "</table>\n",
       "</div>"
      ],
      "text/plain": [
       "      city_name  month  day  temp_min  temp_max  temp_mean  pressure_min  \\\n",
       "0  San Jose, CA      1    1    -0.639    -0.561     -0.609         0.450   \n",
       "1  San Jose, CA      1    2    -0.492    -0.494     -0.548         0.249   \n",
       "2  San Jose, CA      1    3    -0.435    -0.498     -0.505         0.355   \n",
       "3  San Jose, CA      1    4    -0.255    -0.447     -0.393         0.379   \n",
       "4  San Jose, CA      1    5    -0.319    -0.422     -0.393         0.332   \n",
       "\n",
       "   pressure_max  pressure_mean  humidity_min  humidity_max  humidity_mean  \\\n",
       "0        -0.083          1.027        -0.273         0.286          0.034   \n",
       "1         0.046          1.178        -0.431         0.286          0.254   \n",
       "2        -0.340          0.949        -0.825         0.286          0.528   \n",
       "3         0.304          0.863         0.673         0.286          0.951   \n",
       "4         0.949          1.057        -0.037         0.286          0.858   \n",
       "\n",
       "   wind_min  wind_max  wind_mean  precipitation_min  precipitation_max  \\\n",
       "0    -0.514    -0.056     -1.352              0.000             -0.780   \n",
       "1    -0.514    -0.164     -1.771              0.000             -0.567   \n",
       "2    -0.514     0.121     -1.577              0.000              0.177   \n",
       "3    -0.514     0.223     -1.137              0.000              0.177   \n",
       "4    -0.514     0.012     -1.191              0.000              0.177   \n",
       "\n",
       "   precipitation_mean  clouds_min  clouds_max  clouds_mean  \n",
       "0              -0.913      -0.161      -0.927       -1.122  \n",
       "1              -0.618      -0.161       0.949       -0.484  \n",
       "2              -0.323      -0.161      -0.552       -0.442  \n",
       "3               0.956      -0.161       0.949        0.717  \n",
       "4               0.563      -0.161      -0.740        0.124  "
      ]
     },
     "execution_count": 40,
     "metadata": {},
     "output_type": "execute_result"
    }
   ],
   "source": [
    "sql='''SELECT \n",
    "        city_name,\n",
    "        month,\n",
    "        day,\n",
    "        temp_min,\n",
    "        temp_max,\n",
    "        temp_mean,\n",
    "        pressure_min,\n",
    "        pressure_max,\n",
    "        pressure_mean,\n",
    "        humidity_min,\n",
    "        humidity_max,\n",
    "        humidity_mean,\n",
    "        wind_min,\n",
    "        wind_max,\n",
    "        wind_mean,\n",
    "        precipitation_min,\n",
    "        precipitation_max,\n",
    "        precipitation_mean,\n",
    "        clouds_min,\n",
    "        clouds_max,\n",
    "        clouds_mean FROM weather;'''\n",
    "        \n",
    "# fetch data from sql database\n",
    "df_weather=pd.read_sql(sql,db)\n",
    "display(df_weather.head())\n",
    "# normalization\n",
    "for feature in config[\"Weather Features\"]:\n",
    "        df_weather[feature]=pd.to_numeric(df_weather[feature])\n",
    "        df_weather[feature]=(df_weather[feature]-df_weather[feature].mean())/df_weather[feature].std()\n",
    "# replace nan to 0\n",
    "df_weather=df_weather.fillna(0)\n",
    "df_weather.head()"
   ]
  },
  {
   "cell_type": "markdown",
   "metadata": {},
   "source": [
    "Here we use `pytorch` to construct our neural network. The input is a vector that contains the weather information of origin city and destination city, and the output is a probability vector on delay time group. Hence the neural network need linear layers and active functions"
   ]
  },
  {
   "cell_type": "code",
   "execution_count": 44,
   "metadata": {},
   "outputs": [
    {
     "data": {
      "text/plain": [
       "tensor([-1.4013e-45,  0.0000e+00, -1.4013e-45], grad_fn=<AddBackward0>)"
      ]
     },
     "execution_count": 44,
     "metadata": {},
     "output_type": "execute_result"
    }
   ],
   "source": [
    "import torch\n",
    "\"\"\"\n",
    "  pytorch is n open source machine learning framework that accelerates \n",
    "  the path from research prototyping to production deployment.\n",
    "  see more details on https://pytorch.org/\n",
    "\"\"\"\n",
    "import torch.nn as nn\n",
    "import torch.nn.functional as F\n",
    "import math\n",
    "from scipy import stats\n",
    "\"\"\"\n",
    "  scipy provides Fundamental algorithms for scientific computing in Python\n",
    "  see more details on https://scipy.org/\n",
    "\"\"\"\n",
    "\n",
    "class SonnetLinear(nn.Module):\n",
    "  \"\"\"A Sonnet linear module.\n",
    "\n",
    "  Always includes biases and only supports ReLU activations.\n",
    "  \"\"\"\n",
    "\n",
    "  def __init__(self, in_size:int, out_size:int, activate_relu:bool=True):\n",
    "    \"\"\"Creates a Sonnet linear layer.\n",
    "\n",
    "    Args:\n",
    "      in_size: (int) number of inputs\n",
    "      out_size: (int) number of outputs\n",
    "      activate_relu: (bool) whether to include a ReLU activation layer\n",
    "    \"\"\"\n",
    "    super(SonnetLinear, self).__init__()\n",
    "    self._activate_relu = activate_relu\n",
    "    std = 1.0 / math.sqrt(in_size)\n",
    "    mean = 0\n",
    "    lower = (-2 * std - mean) / std\n",
    "    upper = (2 * std - mean) / std\n",
    "    self._weight = nn.Parameter(\n",
    "        torch.Tensor(\n",
    "            stats.truncnorm.rvs(\n",
    "                lower, upper, loc=mean, scale=std, size=[out_size,\n",
    "                                                            in_size])))\n",
    "    self._bias = nn.Parameter(torch.zeros([out_size]))\n",
    "\n",
    "  def forward(self, tensor:torch.Tensor):\n",
    "    y = F.linear(tensor, self._weight, self._bias)\n",
    "    return F.relu(y) if self._activate_relu else y\n",
    "\n",
    "\n",
    "class MLP(nn.Module):\n",
    "  \"\"\"A simple network built from nn.linear layers.\"\"\"\n",
    "\n",
    "  def __init__(self,\n",
    "               input_size:int,\n",
    "               hidden_sizes:list,\n",
    "               output_size:int,\n",
    "               activate_final:bool=False):\n",
    "    \"\"\"Create the MLP.\n",
    "\n",
    "    Args:\n",
    "      input_size: (int) number of inputs\n",
    "      hidden_sizes: (list) sizes (number of units) of each hidden layer\n",
    "      output_size: (int) number of outputs\n",
    "      activate_final: (bool) should final layer should include a ReLU\n",
    "    \"\"\"\n",
    "\n",
    "    super(MLP, self).__init__()\n",
    "    if isinstance(hidden_sizes,int):\n",
    "      hidden_sizes=[hidden_sizes]\n",
    "    self._layers = []\n",
    "    # Hidden layers\n",
    "    for size in hidden_sizes:\n",
    "      self._layers.append(SonnetLinear(in_size=input_size, out_size=size))\n",
    "      input_size = size\n",
    "    # Output layer\n",
    "    self._layers.append(\n",
    "        SonnetLinear(\n",
    "            in_size=input_size,\n",
    "            out_size=output_size,\n",
    "            activate_relu=activate_final))\n",
    "\n",
    "    self.model = nn.ModuleList(self._layers)\n",
    "\n",
    "  def forward(self, x:torch.Tensor):\n",
    "    for layer in self.model:\n",
    "      x = layer(x)\n",
    "    return x\n",
    "\n",
    "net=MLP(1,2,3)\n",
    "net(torch.Tensor(1))"
   ]
  },
  {
   "cell_type": "markdown",
   "metadata": {},
   "source": [
    "Create the dataset and dump them to local files, which could save a lot of time when training next time."
   ]
  },
  {
   "cell_type": "code",
   "execution_count": 45,
   "metadata": {},
   "outputs": [
    {
     "name": "stderr",
     "output_type": "stream",
     "text": [
      "<ipython-input-45-0ea3372f931b>:35: SettingWithCopyWarning: \n",
      "A value is trying to be set on a copy of a slice from a DataFrame.\n",
      "Try using .loc[row_indexer,col_indexer] = value instead\n",
      "\n",
      "See the caveats in the documentation: https://pandas.pydata.org/pandas-docs/stable/user_guide/indexing.html#returning-a-view-versus-a-copy\n",
      "  df_weather_delay[\"WEATHER_DELAY\"]=pd.cut(df_weather_delay[\"WEATHER_DELAY\"],[-math.inf,0,15,30,60,math.inf],labels=[0,1,2,3,4])\n",
      "  0%|          | 6/100000 [00:00<30:00, 55.54it/s]"
     ]
    },
    {
     "name": "stdout",
     "output_type": "stream",
     "text": [
      "100000\n"
     ]
    },
    {
     "name": "stderr",
     "output_type": "stream",
     "text": [
      "100%|██████████| 100000/100000 [25:49<00:00, 64.54it/s]\n"
     ]
    },
    {
     "name": "stdout",
     "output_type": "stream",
     "text": [
      "(99375, 36) (99375,)\n"
     ]
    }
   ],
   "source": [
    "import numpy as np\n",
    "import os\n",
    "import tqdm\n",
    "\n",
    "X_path='dataset/X.npy'\n",
    "y_path='dataset/y.npy'\n",
    "\n",
    "def get_weather_info(month,day,city_name):\n",
    "    \"\"\"get weather information of the city at the given day\n",
    "\n",
    "    Args:\n",
    "        month (number): month\n",
    "        day (number): day\n",
    "        city_name (str): city name\n",
    "\n",
    "    Returns:\n",
    "        numpy.array: an array contains all the weather information\n",
    "    \"\"\"\n",
    "    df_weather_selected=df_weather[(df_weather[\"city_name\"]==city_name)&(df_weather[\"day\"]==day)&(df_weather[\"month\"]==month)]\n",
    "    \n",
    "    return df_weather_selected[config[\"Weather Features\"]].to_numpy(dtype=np.float32)\n",
    "\n",
    "def gen_dataset(df_weather_delay):\n",
    "    \"\"\"_summary_\n",
    "\n",
    "    Args:\n",
    "        df_weather_delay (_type_): _description_\n",
    "\n",
    "    Returns:\n",
    "        _type_: _description_\n",
    "    \"\"\"\n",
    "\n",
    "    X,y=[],[]\n",
    "    for index,row in tqdm.tqdm(df_weather_delay.iterrows(),total=config['Sample Size']):\n",
    "        month=row[\"MONTH\"]\n",
    "        day=row[\"DAY_OF_MONTH\"]\n",
    "        origin_city=row[\"ORIGIN_CITY_NAME\"]\n",
    "        dest_city=row[\"DEST_CITY_NAME\"]\n",
    "        origin_weather_info=get_weather_info(month,day,origin_city)\n",
    "        if origin_weather_info.size==0:\n",
    "            continue\n",
    "        dest_weather_info=get_weather_info(month,day,dest_city)\n",
    "        if dest_weather_info.size==0:\n",
    "            continue\n",
    "        X.append(np.hstack([origin_weather_info[0],dest_weather_info[0]]))\n",
    "        y.append(row['WEATHER_DELAY'])\n",
    "    X=np.array(X)\n",
    "    y=np.array(y)\n",
    "    print(X.shape,y.shape)\n",
    "    return X,y\n",
    "\n",
    "df_weather_delay=df_delay[[\"MONTH\",\"DAY_OF_MONTH\",\"ORIGIN_CITY_NAME\",\"DEST_CITY_NAME\",\"WEATHER_DELAY\"]]\n",
    "df_weather_delay[\"WEATHER_DELAY\"]=pd.cut(df_weather_delay[\"WEATHER_DELAY\"],[-math.inf,0,15,30,60,math.inf],labels=[0,1,2,3,4])\n",
    "print(len(df_weather_delay))\n",
    "\n",
    "if os.path.exists(X_path) and os.path.exists(y_path):\n",
    "    X=np.load(X_path)\n",
    "    y=np.load(y_path)\n",
    "else:\n",
    "    X,y=gen_dataset(df_weather_delay)\n",
    "    np.save(X_path,X)\n",
    "    np.save(y_path,y)\n"
   ]
  },
  {
   "cell_type": "markdown",
   "metadata": {},
   "source": [
    "Split dataset into train set, val set, and test set."
   ]
  },
  {
   "cell_type": "code",
   "execution_count": 46,
   "metadata": {},
   "outputs": [],
   "source": [
    "from sklearn.model_selection import train_test_split\n",
    "\n",
    "def dataset_split(X,y,split=[6,1,1]):\n",
    "    ratios = np.array(split) / np.sum(split)\n",
    "    X_train, X_val_test, y_train, y_val_test = train_test_split(X, y, train_size=ratios[0])\n",
    "    \n",
    "    ratios = np.array(split[1:]) / np.sum(split[1:])\n",
    "    X_val, X_test, y_val, y_test = train_test_split(X_val_test, y_val_test, train_size=ratios[0])\n",
    "    return X_train,X_val,X_test,y_train,y_val,y_test\n",
    "\n",
    "X_train,X_val,X_test,y_train,y_val,y_test=dataset_split(X,y)"
   ]
  },
  {
   "cell_type": "markdown",
   "metadata": {},
   "source": [
    "Balance the train dataset"
   ]
  },
  {
   "cell_type": "code",
   "execution_count": 47,
   "metadata": {},
   "outputs": [
    {
     "data": {
      "text/plain": [
       "(99375, 36)"
      ]
     },
     "metadata": {},
     "output_type": "display_data"
    },
    {
     "data": {
      "text/plain": [
       "(99375,)"
      ]
     },
     "metadata": {},
     "output_type": "display_data"
    },
    {
     "data": {
      "text/plain": [
       "[(0, 73691), (1, 175), (2, 205), (3, 191), (4, 269)]"
      ]
     },
     "metadata": {},
     "output_type": "display_data"
    },
    {
     "data": {
      "text/plain": [
       "[(0, 73691), (1, 73691), (2, 73691), (3, 73691), (4, 73691)]"
      ]
     },
     "metadata": {},
     "output_type": "display_data"
    }
   ],
   "source": [
    "display(X.shape,y.shape)\n",
    "display(sorted(Counter(y_train).items()))\n",
    "X_train, y_train = SMOTE().fit_resample(X_train, y_train)\n",
    "# X_val, y_val = ADASYN().fit_resample(X_val, y_val)\n",
    "display(sorted(Counter(y_train).items()))"
   ]
  },
  {
   "cell_type": "markdown",
   "metadata": {},
   "source": [
    "Train the neural network"
   ]
  },
  {
   "cell_type": "code",
   "execution_count": 48,
   "metadata": {},
   "outputs": [
    {
     "name": "stderr",
     "output_type": "stream",
     "text": [
      "100%|██████████| 100/100 [09:48<00:00,  5.88s/it]\n"
     ]
    }
   ],
   "source": [
    "from torch.utils.data import sampler, DataLoader, TensorDataset\n",
    "from sklearn.metrics import confusion_matrix, ConfusionMatrixDisplay\n",
    "in_size=X.shape[1]\n",
    "out_size=5\n",
    "hidden_sizes=[128,64,32]\n",
    "learn_rate=0.001\n",
    "batch_size=128\n",
    "\n",
    "net=MLP(in_size,hidden_sizes,out_size)\n",
    "optimizer=torch.optim.Adam(net.parameters(),learn_rate,weight_decay=1e-5)\n",
    "loss_func=F.cross_entropy\n",
    "\n",
    "train_dataset=TensorDataset(torch.FloatTensor(X_train),torch.LongTensor(y_train))\n",
    "val_dataset=TensorDataset(torch.FloatTensor(X_val),torch.LongTensor(y_val))\n",
    "test_dataset=TensorDataset(torch.FloatTensor(X_test),torch.LongTensor(y_test))\n",
    "\n",
    "loader_train = DataLoader(train_dataset, batch_size=batch_size,shuffle=True,)\n",
    "\n",
    "loader_val = DataLoader(val_dataset, batch_size=batch_size,shuffle=True)\n",
    "\n",
    "loader_test = DataLoader(test_dataset, batch_size=batch_size,shuffle=True)\n",
    "\n",
    "def check_acc(net,loader):\n",
    "    acc_total=0\n",
    "    count=0\n",
    "    net.eval()\n",
    "    with torch.no_grad():\n",
    "        for X,y in loader:\n",
    "            y_pred=net(X).max(-1)[1]\n",
    "            acc=(y_pred==y).sum()/len(y)\n",
    "            acc_total+=acc\n",
    "            count+=1\n",
    "        acc_total=acc_total/count\n",
    "    return acc_total.item()\n",
    "\n",
    "def plot_cm(net,X,y):\n",
    "    y_pred=net(torch.FloatTensor(X)).max(-1)[1]\n",
    "    y_true=y\n",
    "    cm=confusion_matrix(y_true,y_pred)\n",
    "    disp = ConfusionMatrixDisplay(confusion_matrix=cm)\n",
    "    disp.plot()\n",
    "    plt.show()\n",
    "\n",
    "def train(net,epoch=100):\n",
    "    loss_record=[]\n",
    "    acc_record=[]\n",
    "    for e in tqdm.tqdm(range(epoch)):\n",
    "        net.train()\n",
    "        for x,target in loader_train:\n",
    "            optimizer.zero_grad()\n",
    "            predict=net(x)\n",
    "            loss=loss_func(predict,target)\n",
    "            loss.backward()\n",
    "            optimizer.step()\n",
    "            loss_record.append(loss.item())\n",
    "        acc=check_acc(net,loader_val)\n",
    "        acc_record.append(acc)\n",
    "    return loss_record,acc_record\n",
    "\n",
    "loss_record,acc_record=train(net)\n"
   ]
  },
  {
   "cell_type": "markdown",
   "metadata": {},
   "source": [
    "Show the record of loss and accuracy on the validation set."
   ]
  },
  {
   "cell_type": "code",
   "execution_count": 49,
   "metadata": {},
   "outputs": [
    {
     "data": {
      "image/png": "[encoded data removed]",
      "text/plain": [
       "<Figure size 432x288 with 1 Axes>"
      ]
     },
     "metadata": {
      "needs_background": "light"
     },
     "output_type": "display_data"
    },
    {
     "data": {
      "image/png": "[encoded data removed]",
      "text/plain": [
       "<Figure size 432x288 with 1 Axes>"
      ]
     },
     "metadata": {
      "needs_background": "light"
     },
     "output_type": "display_data"
    }
   ],
   "source": [
    "plt.plot(loss_record)\n",
    "plt.show()\n",
    "plt.plot(acc_record)\n",
    "plt.show()"
   ]
  },
  {
   "cell_type": "markdown",
   "metadata": {},
   "source": [
    "Plot the confusion matrix on the train dataset and the accuracy on the test dataset"
   ]
  },
  {
   "cell_type": "code",
   "execution_count": 50,
   "metadata": {},
   "outputs": [
    {
     "data": {
      "image/png": "[encoded data removed]",
      "text/plain": [
       "<Figure size 432x288 with 2 Axes>"
      ]
     },
     "metadata": {
      "needs_background": "light"
     },
     "output_type": "display_data"
    },
    {
     "name": "stdout",
     "output_type": "stream",
     "text": [
      "the accuracy on test dataset is: 97.28156924247742%\n"
     ]
    }
   ],
   "source": [
    "X_test_balanced,y_test_balanced=SMOTE().fit_resample(X_test, y_test)\n",
    "plot_cm(net,X_train,y_train)\n",
    "acc_test=check_acc(net,loader_test)\n",
    "print(f\"the accuracy on test dataset is: {acc_test*100}%\")"
   ]
  }
 ],
 "metadata": {
  "interpreter": {
   "hash": "b3ba2566441a7c06988d0923437866b63cedc61552a5af99d1f4fb67d367b25f"
  },
  "kernelspec": {
   "display_name": "Python 3 (ipykernel)",
   "language": "python",
   "name": "python3"
  },
  "language_info": {
   "codemirror_mode": {
    "name": "ipython",
    "version": 3
   },
   "file_extension": ".py",
   "mimetype": "text/x-python",
   "name": "python",
   "nbconvert_exporter": "python",
   "pygments_lexer": "ipython3",
   "version": "3.8.8"
  }
 },
 "nbformat": 4,
 "nbformat_minor": 2
}
